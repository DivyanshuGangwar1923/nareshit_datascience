{
  "nbformat": 4,
  "nbformat_minor": 0,
  "metadata": {
    "colab": {
      "provenance": []
    },
    "kernelspec": {
      "name": "python3",
      "display_name": "Python 3"
    },
    "language_info": {
      "name": "python"
    }
  },
  "cells": [
    {
      "cell_type": "code",
      "execution_count": 13,
      "metadata": {
        "collapsed": true,
        "id": "krEF7pbPUPgi"
      },
      "outputs": [],
      "source": [
        "#!pip install spacy\n",
        "#!python -m spacy download en_core_web_sm"
      ]
    },
    {
      "cell_type": "code",
      "source": [
        "import spacy\n",
        "\n",
        "#Load english language model\n",
        "nlp=spacy.load(\"en_core_web_sm\")\n",
        "\n",
        "#Example text\n",
        "text='Apple is looking at buying U.K for $1 billion.'\n",
        "\n",
        "#Process the text\n",
        "doc=nlp(text)"
      ],
      "metadata": {
        "id": "hpdy2-DUUfVt"
      },
      "execution_count": 14,
      "outputs": []
    },
    {
      "cell_type": "code",
      "source": [
        "#print named entities found in the text\n",
        "print(\"Named Entities,Phrases and Concepts:\")\n",
        "for ent in doc.ents:\n",
        "  print(f\"{ent.text:15} {ent.label_:10} {ent.start_char:10} {ent.end_char:10}\")"
      ],
      "metadata": {
        "colab": {
          "base_uri": "https://localhost:8080/"
        },
        "id": "apzb_0A0Vfls",
        "outputId": "e98b7373-1a68-4105-a4fe-afbfa67e8f50"
      },
      "execution_count": 19,
      "outputs": [
        {
          "output_type": "stream",
          "name": "stdout",
          "text": [
            "Named Entities,Phrases and Concepts:\n",
            "Apple           ORG                 0          5\n",
            "U.K             FAC                27         30\n",
            "$1 billion      MONEY              35         45\n"
          ]
        }
      ]
    },
    {
      "cell_type": "code",
      "source": [
        "# TEXT SUMMARIZATION USING SPACY"
      ],
      "metadata": {
        "id": "E2GprFpbXNw4"
      },
      "execution_count": 21,
      "outputs": []
    },
    {
      "cell_type": "code",
      "source": [
        "doc=nlp(\"data science and ai & gen ai has great carrer ahead \")"
      ],
      "metadata": {
        "id": "DiEM5guEXOYE"
      },
      "execution_count": 22,
      "outputs": []
    },
    {
      "cell_type": "code",
      "source": [
        "doc"
      ],
      "metadata": {
        "colab": {
          "base_uri": "https://localhost:8080/"
        },
        "id": "DCMnBOgLXz7Z",
        "outputId": "c3421e1d-68c7-48aa-f4bc-bbbed455faa5"
      },
      "execution_count": 23,
      "outputs": [
        {
          "output_type": "execute_result",
          "data": {
            "text/plain": [
              "data science and ai & gen ai has great carrer ahead "
            ]
          },
          "metadata": {},
          "execution_count": 23
        }
      ]
    },
    {
      "cell_type": "code",
      "source": [
        "for token in doc:\n",
        "  print(token.text)"
      ],
      "metadata": {
        "colab": {
          "base_uri": "https://localhost:8080/"
        },
        "id": "Z5ccrSjZX0Y-",
        "outputId": "210be32c-4c74-4a74-f47f-bcf16cf9ed60"
      },
      "execution_count": 26,
      "outputs": [
        {
          "output_type": "stream",
          "name": "stdout",
          "text": [
            "data\n",
            "science\n",
            "and\n",
            "ai\n",
            "&\n",
            "gen\n",
            "ai\n",
            "has\n",
            "great\n",
            "carrer\n",
            "ahead\n"
          ]
        }
      ]
    },
    {
      "cell_type": "code",
      "source": [
        "for token in doc:\n",
        "  print(token.pos_)"
      ],
      "metadata": {
        "colab": {
          "base_uri": "https://localhost:8080/"
        },
        "id": "3CzVEc2wX5gr",
        "outputId": "098d606c-e6a5-4309-fab1-fcc51991f645"
      },
      "execution_count": 27,
      "outputs": [
        {
          "output_type": "stream",
          "name": "stdout",
          "text": [
            "NOUN\n",
            "NOUN\n",
            "CCONJ\n",
            "PROPN\n",
            "CCONJ\n",
            "PROPN\n",
            "PROPN\n",
            "VERB\n",
            "ADJ\n",
            "NOUN\n",
            "ADV\n"
          ]
        }
      ]
    },
    {
      "cell_type": "code",
      "source": [
        "for token in doc:\n",
        "  print(token.text,':',token.pos_)"
      ],
      "metadata": {
        "colab": {
          "base_uri": "https://localhost:8080/"
        },
        "id": "3Fbp_o41YGXo",
        "outputId": "cc5fd744-df65-4554-b310-b1d445336172"
      },
      "execution_count": 28,
      "outputs": [
        {
          "output_type": "stream",
          "name": "stdout",
          "text": [
            "data : NOUN\n",
            "science : NOUN\n",
            "and : CCONJ\n",
            "ai : PROPN\n",
            "& : CCONJ\n",
            "gen : PROPN\n",
            "ai : PROPN\n",
            "has : VERB\n",
            "great : ADJ\n",
            "carrer : NOUN\n",
            "ahead : ADV\n"
          ]
        }
      ]
    },
    {
      "cell_type": "code",
      "source": [
        "for token in doc:\n",
        "  print(token.text,':',token.pos_,'-->',token.lemma_,token.dep_\n",
        "        ,token.shape_,token.is_alpha,token.is_stop)"
      ],
      "metadata": {
        "colab": {
          "base_uri": "https://localhost:8080/"
        },
        "id": "EbjbKhS9YSNy",
        "outputId": "7bc56079-2e05-438e-c882-789cf33f551b"
      },
      "execution_count": 30,
      "outputs": [
        {
          "output_type": "stream",
          "name": "stdout",
          "text": [
            "data : NOUN --> data compound xxxx True False\n",
            "science : NOUN --> science nsubj xxxx True False\n",
            "and : CCONJ --> and cc xxx True True\n",
            "ai : PROPN --> ai conj xx True False\n",
            "& : CCONJ --> & cc & False False\n",
            "gen : PROPN --> gen conj xxx True False\n",
            "ai : PROPN --> ai conj xx True False\n",
            "has : VERB --> have ROOT xxx True True\n",
            "great : ADJ --> great amod xxxx True False\n",
            "carrer : NOUN --> carrer dobj xxxx True False\n",
            "ahead : ADV --> ahead advmod xxxx True False\n"
          ]
        }
      ]
    },
    {
      "cell_type": "code",
      "source": [
        "text = \"\"\"There are broadly two types of extractive summarization tasks depending on what the summarization program focuses on. The first is generic summarization, which focuses on obtaining a generic summary or abstract of the collection (whether documents, or sets of images, or videos, news stories etc.). The second is query relevant summarization, sometimes called query-based summarization, which summarizes objects specific to a query. Summarization systems are able to create both query relevant text summaries and generic machine-generated summaries depending on what the user needs.\n",
        "An example of a summarization problem is document summarization, which attempts to automatically produce an abstract from a given document. Sometimes one might be interested in generating a summary from a single source document, while others can use multiple source documents (for example, a cluster of articles on the same topic). This problem is called multi-document summarization. A related application is summarizing news articles. Imagine a system, which automatically pulls together news articles on a given topic (from the web), and concisely represents the latest news as a summary.\n",
        "Image collection summarization is another application example of automatic summarization. It consists in selecting a representative set of images from a larger set of images.[4] A summary in this context is useful to show the most representative images of results in an image collection exploration system. Video summarization is a related domain, where the system automatically creates a trailer of a long video. This also has applications in consumer or personal videos, where one might want to skip the boring or repetitive actions. Similarly, in surveillance videos, one would want to extract important and suspicious activity, while ignoring all the boring and redundant frames captured \"\"\""
      ],
      "metadata": {
        "id": "fVdg1CN0Ya0G"
      },
      "execution_count": 31,
      "outputs": []
    },
    {
      "cell_type": "code",
      "source": [
        "text"
      ],
      "metadata": {
        "colab": {
          "base_uri": "https://localhost:8080/",
          "height": 244
        },
        "id": "JA_oifBfZNBC",
        "outputId": "15f92c9b-6629-411a-9254-befba1bcefcf"
      },
      "execution_count": 32,
      "outputs": [
        {
          "output_type": "execute_result",
          "data": {
            "text/plain": [
              "'There are broadly two types of extractive summarization tasks depending on what the summarization program focuses on. The first is generic summarization, which focuses on obtaining a generic summary or abstract of the collection (whether documents, or sets of images, or videos, news stories etc.). The second is query relevant summarization, sometimes called query-based summarization, which summarizes objects specific to a query. Summarization systems are able to create both query relevant text summaries and generic machine-generated summaries depending on what the user needs.\\nAn example of a summarization problem is document summarization, which attempts to automatically produce an abstract from a given document. Sometimes one might be interested in generating a summary from a single source document, while others can use multiple source documents (for example, a cluster of articles on the same topic). This problem is called multi-document summarization. A related application is summarizing news articles. Imagine a system, which automatically pulls together news articles on a given topic (from the web), and concisely represents the latest news as a summary.\\nImage collection summarization is another application example of automatic summarization. It consists in selecting a representative set of images from a larger set of images.[4] A summary in this context is useful to show the most representative images of results in an image collection exploration system. Video summarization is a related domain, where the system automatically creates a trailer of a long video. This also has applications in consumer or personal videos, where one might want to skip the boring or repetitive actions. Similarly, in surveillance videos, one would want to extract important and suspicious activity, while ignoring all the boring and redundant frames captured '"
            ],
            "application/vnd.google.colaboratory.intrinsic+json": {
              "type": "string"
            }
          },
          "metadata": {},
          "execution_count": 32
        }
      ]
    },
    {
      "cell_type": "code",
      "source": [
        "from spacy.lang.en.stop_words import STOP_WORDS\n",
        "from string import punctuation"
      ],
      "metadata": {
        "id": "rvDLQa9KZOph"
      },
      "execution_count": 33,
      "outputs": []
    },
    {
      "cell_type": "code",
      "source": [
        "stopwords=list(STOP_WORDS )\n",
        "stopwords"
      ],
      "metadata": {
        "colab": {
          "base_uri": "https://localhost:8080/"
        },
        "id": "1otWm8TbZX1v",
        "outputId": "6b65b23e-853e-479f-87db-d47b92b3f984"
      },
      "execution_count": 34,
      "outputs": [
        {
          "output_type": "execute_result",
          "data": {
            "text/plain": [
              "['if',\n",
              " 'several',\n",
              " '’ve',\n",
              " 'being',\n",
              " 'seem',\n",
              " 'your',\n",
              " 'yourself',\n",
              " 'hereby',\n",
              " 'do',\n",
              " 'herein',\n",
              " 'bottom',\n",
              " 'few',\n",
              " 'through',\n",
              " 'once',\n",
              " 'to',\n",
              " 'one',\n",
              " 'i',\n",
              " '’re',\n",
              " 'elsewhere',\n",
              " 'six',\n",
              " 'any',\n",
              " 'regarding',\n",
              " 'serious',\n",
              " 're',\n",
              " 'show',\n",
              " 'hereupon',\n",
              " 'its',\n",
              " 'move',\n",
              " 'somewhere',\n",
              " 'an',\n",
              " 'rather',\n",
              " 'who',\n",
              " 'however',\n",
              " 'always',\n",
              " 'via',\n",
              " 'wherever',\n",
              " 'had',\n",
              " 'us',\n",
              " 'really',\n",
              " 'toward',\n",
              " 'hereafter',\n",
              " 'go',\n",
              " 'some',\n",
              " 'becoming',\n",
              " 'everyone',\n",
              " 'with',\n",
              " 'whoever',\n",
              " 'when',\n",
              " 'ours',\n",
              " 'thereupon',\n",
              " 'take',\n",
              " 'third',\n",
              " '‘m',\n",
              " 'although',\n",
              " 'yours',\n",
              " 'from',\n",
              " 'no',\n",
              " 'using',\n",
              " 'what',\n",
              " 'two',\n",
              " 'anywhere',\n",
              " 'seemed',\n",
              " 'again',\n",
              " 'least',\n",
              " 'part',\n",
              " 'along',\n",
              " 'those',\n",
              " 'somehow',\n",
              " 'empty',\n",
              " 'next',\n",
              " 'should',\n",
              " 'must',\n",
              " 'three',\n",
              " \"n't\",\n",
              " 'anyhow',\n",
              " 'say',\n",
              " 'keep',\n",
              " 'nowhere',\n",
              " 'thru',\n",
              " 'every',\n",
              " 'have',\n",
              " 'the',\n",
              " 'would',\n",
              " 'than',\n",
              " 'thence',\n",
              " 'fifteen',\n",
              " 'due',\n",
              " 'full',\n",
              " 'amount',\n",
              " 'under',\n",
              " 'were',\n",
              " 'thereafter',\n",
              " 'all',\n",
              " 'whereby',\n",
              " 'whither',\n",
              " '’d',\n",
              " 'often',\n",
              " 'nine',\n",
              " 'whence',\n",
              " 'it',\n",
              " 'down',\n",
              " 'name',\n",
              " 'besides',\n",
              " 'put',\n",
              " 'at',\n",
              " 'now',\n",
              " 'throughout',\n",
              " '’s',\n",
              " 'might',\n",
              " 'call',\n",
              " 'another',\n",
              " 'their',\n",
              " 'across',\n",
              " 'back',\n",
              " 'also',\n",
              " 'hundred',\n",
              " 'own',\n",
              " 'during',\n",
              " \"'d\",\n",
              " 'mostly',\n",
              " 'used',\n",
              " 'him',\n",
              " 'about',\n",
              " 'too',\n",
              " 'they',\n",
              " 'still',\n",
              " 'she',\n",
              " 'because',\n",
              " 'everything',\n",
              " 'itself',\n",
              " 'nothing',\n",
              " 'them',\n",
              " 'well',\n",
              " 'latterly',\n",
              " '‘s',\n",
              " 'noone',\n",
              " 'against',\n",
              " 'ten',\n",
              " 'just',\n",
              " 'alone',\n",
              " '‘ve',\n",
              " 'towards',\n",
              " 'out',\n",
              " 'mine',\n",
              " 'why',\n",
              " 'sometimes',\n",
              " 'twenty',\n",
              " 'most',\n",
              " 'and',\n",
              " 'meanwhile',\n",
              " 'there',\n",
              " 'which',\n",
              " 'either',\n",
              " 'ourselves',\n",
              " 'whole',\n",
              " 'thereby',\n",
              " 'never',\n",
              " 'below',\n",
              " 'between',\n",
              " 'less',\n",
              " 'therein',\n",
              " \"'s\",\n",
              " 'be',\n",
              " 'fifty',\n",
              " 'beforehand',\n",
              " 'each',\n",
              " 'how',\n",
              " 'various',\n",
              " 'indeed',\n",
              " 'as',\n",
              " 'beyond',\n",
              " 'formerly',\n",
              " 'until',\n",
              " 'otherwise',\n",
              " 'side',\n",
              " 'nobody',\n",
              " 'last',\n",
              " 'per',\n",
              " 'whereafter',\n",
              " 'whose',\n",
              " \"'m\",\n",
              " 'may',\n",
              " 'themselves',\n",
              " 'anything',\n",
              " 'whenever',\n",
              " 'our',\n",
              " 'off',\n",
              " 'on',\n",
              " 'forty',\n",
              " '‘re',\n",
              " 'nevertheless',\n",
              " 'onto',\n",
              " 'his',\n",
              " 'latter',\n",
              " 'can',\n",
              " \"'ve\",\n",
              " 'n‘t',\n",
              " 'around',\n",
              " 'in',\n",
              " 'becomes',\n",
              " 'none',\n",
              " 'ever',\n",
              " 'where',\n",
              " 'my',\n",
              " 'even',\n",
              " 'former',\n",
              " 'whether',\n",
              " 'hence',\n",
              " 'without',\n",
              " 'so',\n",
              " 'ca',\n",
              " 'such',\n",
              " 'whatever',\n",
              " 'beside',\n",
              " 'her',\n",
              " 'only',\n",
              " 'whereas',\n",
              " 'more',\n",
              " 'yet',\n",
              " 'am',\n",
              " 'yourselves',\n",
              " 'n’t',\n",
              " 'upon',\n",
              " 'will',\n",
              " 'further',\n",
              " 'someone',\n",
              " 'both',\n",
              " 'does',\n",
              " 'eight',\n",
              " 'me',\n",
              " \"'ll\",\n",
              " 'he',\n",
              " 'hers',\n",
              " 'make',\n",
              " 'unless',\n",
              " 'together',\n",
              " 'behind',\n",
              " 'has',\n",
              " 'perhaps',\n",
              " 'whom',\n",
              " 'whereupon',\n",
              " 'almost',\n",
              " 'this',\n",
              " 'eleven',\n",
              " 'top',\n",
              " 'anyone',\n",
              " 'done',\n",
              " 'four',\n",
              " 'could',\n",
              " 'sixty',\n",
              " \"'re\",\n",
              " 'himself',\n",
              " 'these',\n",
              " 'we',\n",
              " 'doing',\n",
              " 'moreover',\n",
              " 'became',\n",
              " 'same',\n",
              " 'was',\n",
              " 'cannot',\n",
              " 'front',\n",
              " 'a',\n",
              " 'seeming',\n",
              " 'above',\n",
              " 'myself',\n",
              " 'after',\n",
              " 'among',\n",
              " 'or',\n",
              " 'many',\n",
              " 'enough',\n",
              " 'neither',\n",
              " 'thus',\n",
              " 'give',\n",
              " 'that',\n",
              " 'are',\n",
              " 'before',\n",
              " '’ll',\n",
              " 'within',\n",
              " 'into',\n",
              " 'of',\n",
              " 'become',\n",
              " 'first',\n",
              " 'by',\n",
              " 'quite',\n",
              " 'though',\n",
              " 'been',\n",
              " 'for',\n",
              " 'herself',\n",
              " 'afterwards',\n",
              " 'since',\n",
              " 'over',\n",
              " 'see',\n",
              " 'nor',\n",
              " 'but',\n",
              " 'did',\n",
              " 'very',\n",
              " 'twelve',\n",
              " 'something',\n",
              " 'else',\n",
              " 'get',\n",
              " 'wherein',\n",
              " 'sometime',\n",
              " 'here',\n",
              " 'much',\n",
              " 'seems',\n",
              " 'other',\n",
              " 'others',\n",
              " 'you',\n",
              " 'amongst',\n",
              " 'while',\n",
              " 'already',\n",
              " '‘ll',\n",
              " 'up',\n",
              " '‘d',\n",
              " 'please',\n",
              " 'except',\n",
              " 'everywhere',\n",
              " 'therefore',\n",
              " 'made',\n",
              " 'not',\n",
              " 'is',\n",
              " 'five',\n",
              " 'anyway',\n",
              " 'namely',\n",
              " 'then',\n",
              " '’m']"
            ]
          },
          "metadata": {},
          "execution_count": 34
        }
      ]
    },
    {
      "cell_type": "code",
      "source": [
        "doc=nlp(text)"
      ],
      "metadata": {
        "id": "IVMpRbjiZeyA"
      },
      "execution_count": 35,
      "outputs": []
    },
    {
      "cell_type": "code",
      "source": [
        "doc"
      ],
      "metadata": {
        "colab": {
          "base_uri": "https://localhost:8080/"
        },
        "id": "GScJzM-pZitG",
        "outputId": "cb370704-3410-4e69-f5fe-9a437f350593"
      },
      "execution_count": 36,
      "outputs": [
        {
          "output_type": "execute_result",
          "data": {
            "text/plain": [
              "There are broadly two types of extractive summarization tasks depending on what the summarization program focuses on. The first is generic summarization, which focuses on obtaining a generic summary or abstract of the collection (whether documents, or sets of images, or videos, news stories etc.). The second is query relevant summarization, sometimes called query-based summarization, which summarizes objects specific to a query. Summarization systems are able to create both query relevant text summaries and generic machine-generated summaries depending on what the user needs.\n",
              "An example of a summarization problem is document summarization, which attempts to automatically produce an abstract from a given document. Sometimes one might be interested in generating a summary from a single source document, while others can use multiple source documents (for example, a cluster of articles on the same topic). This problem is called multi-document summarization. A related application is summarizing news articles. Imagine a system, which automatically pulls together news articles on a given topic (from the web), and concisely represents the latest news as a summary.\n",
              "Image collection summarization is another application example of automatic summarization. It consists in selecting a representative set of images from a larger set of images.[4] A summary in this context is useful to show the most representative images of results in an image collection exploration system. Video summarization is a related domain, where the system automatically creates a trailer of a long video. This also has applications in consumer or personal videos, where one might want to skip the boring or repetitive actions. Similarly, in surveillance videos, one would want to extract important and suspicious activity, while ignoring all the boring and redundant frames captured "
            ]
          },
          "metadata": {},
          "execution_count": 36
        }
      ]
    },
    {
      "cell_type": "code",
      "source": [
        "# we have to calculate the frequency of each and every token, how many time token is repeteation\n",
        "word_frequencies={}\n",
        "\n",
        "for word in doc:\n",
        "  if word.text.lower() not in stopwords:\n",
        "    if word.text.lower() not in punctuation:\n",
        "      if word.text not in word_frequencies.keys():\n",
        "        word_frequencies[word.text]=1\n",
        "      else:\n",
        "        word_frequencies[word.text]+=1"
      ],
      "metadata": {
        "id": "ghOju-5wZjLV"
      },
      "execution_count": 37,
      "outputs": []
    },
    {
      "cell_type": "code",
      "source": [
        "word_frequencies"
      ],
      "metadata": {
        "colab": {
          "base_uri": "https://localhost:8080/"
        },
        "id": "Kkww3Yhoc1cH",
        "outputId": "32e60e9b-779c-44e4-fa8c-6c915787c08d"
      },
      "execution_count": 38,
      "outputs": [
        {
          "output_type": "execute_result",
          "data": {
            "text/plain": [
              "{'broadly': 1,\n",
              " 'types': 1,\n",
              " 'extractive': 1,\n",
              " 'summarization': 11,\n",
              " 'tasks': 1,\n",
              " 'depending': 2,\n",
              " 'program': 1,\n",
              " 'focuses': 2,\n",
              " 'generic': 3,\n",
              " 'obtaining': 1,\n",
              " 'summary': 4,\n",
              " 'abstract': 2,\n",
              " 'collection': 3,\n",
              " 'documents': 2,\n",
              " 'sets': 1,\n",
              " 'images': 3,\n",
              " 'videos': 3,\n",
              " 'news': 4,\n",
              " 'stories': 1,\n",
              " 'etc': 1,\n",
              " 'second': 1,\n",
              " 'query': 4,\n",
              " 'relevant': 2,\n",
              " 'called': 2,\n",
              " 'based': 1,\n",
              " 'summarizes': 1,\n",
              " 'objects': 1,\n",
              " 'specific': 1,\n",
              " 'Summarization': 1,\n",
              " 'systems': 1,\n",
              " 'able': 1,\n",
              " 'create': 1,\n",
              " 'text': 1,\n",
              " 'summaries': 2,\n",
              " 'machine': 1,\n",
              " 'generated': 1,\n",
              " 'user': 1,\n",
              " 'needs': 1,\n",
              " '\\n': 2,\n",
              " 'example': 3,\n",
              " 'problem': 2,\n",
              " 'document': 4,\n",
              " 'attempts': 1,\n",
              " 'automatically': 3,\n",
              " 'produce': 1,\n",
              " 'given': 2,\n",
              " 'interested': 1,\n",
              " 'generating': 1,\n",
              " 'single': 1,\n",
              " 'source': 2,\n",
              " 'use': 1,\n",
              " 'multiple': 1,\n",
              " 'cluster': 1,\n",
              " 'articles': 3,\n",
              " 'topic': 2,\n",
              " 'multi': 1,\n",
              " 'related': 2,\n",
              " 'application': 2,\n",
              " 'summarizing': 1,\n",
              " 'Imagine': 1,\n",
              " 'system': 3,\n",
              " 'pulls': 1,\n",
              " 'web': 1,\n",
              " 'concisely': 1,\n",
              " 'represents': 1,\n",
              " 'latest': 1,\n",
              " 'Image': 1,\n",
              " 'automatic': 1,\n",
              " 'consists': 1,\n",
              " 'selecting': 1,\n",
              " 'representative': 2,\n",
              " 'set': 2,\n",
              " 'larger': 1,\n",
              " 'images.[4': 1,\n",
              " 'context': 1,\n",
              " 'useful': 1,\n",
              " 'results': 1,\n",
              " 'image': 1,\n",
              " 'exploration': 1,\n",
              " 'Video': 1,\n",
              " 'domain': 1,\n",
              " 'creates': 1,\n",
              " 'trailer': 1,\n",
              " 'long': 1,\n",
              " 'video': 1,\n",
              " 'applications': 1,\n",
              " 'consumer': 1,\n",
              " 'personal': 1,\n",
              " 'want': 2,\n",
              " 'skip': 1,\n",
              " 'boring': 2,\n",
              " 'repetitive': 1,\n",
              " 'actions': 1,\n",
              " 'Similarly': 1,\n",
              " 'surveillance': 1,\n",
              " 'extract': 1,\n",
              " 'important': 1,\n",
              " 'suspicious': 1,\n",
              " 'activity': 1,\n",
              " 'ignoring': 1,\n",
              " 'redundant': 1,\n",
              " 'frames': 1,\n",
              " 'captured': 1}"
            ]
          },
          "metadata": {},
          "execution_count": 38
        }
      ]
    },
    {
      "cell_type": "code",
      "source": [
        "max_frequency=max(word_frequencies.values())\n",
        "max_frequency"
      ],
      "metadata": {
        "colab": {
          "base_uri": "https://localhost:8080/"
        },
        "id": "qWP2bnl5c3Jc",
        "outputId": "1ba91937-daad-4bd6-8812-42c2d9f1e04e"
      },
      "execution_count": 39,
      "outputs": [
        {
          "output_type": "execute_result",
          "data": {
            "text/plain": [
              "11"
            ]
          },
          "metadata": {},
          "execution_count": 39
        }
      ]
    },
    {
      "cell_type": "code",
      "source": [
        "# To get normalized/weighted frequencies you should divide all frequencies wit 11\n",
        "\n",
        "for word in word_frequencies.keys():\n",
        "  word_frequencies[word]=word_frequencies[word]/max_frequency"
      ],
      "metadata": {
        "id": "r7C6eOwcdBOG"
      },
      "execution_count": 40,
      "outputs": []
    },
    {
      "cell_type": "code",
      "source": [
        "word_frequencies"
      ],
      "metadata": {
        "colab": {
          "base_uri": "https://localhost:8080/"
        },
        "id": "htSIsxhVdWIP",
        "outputId": "4cf12707-bb1c-46d7-8845-25d8dc648530"
      },
      "execution_count": 41,
      "outputs": [
        {
          "output_type": "execute_result",
          "data": {
            "text/plain": [
              "{'broadly': 0.09090909090909091,\n",
              " 'types': 0.09090909090909091,\n",
              " 'extractive': 0.09090909090909091,\n",
              " 'summarization': 1.0,\n",
              " 'tasks': 0.09090909090909091,\n",
              " 'depending': 0.18181818181818182,\n",
              " 'program': 0.09090909090909091,\n",
              " 'focuses': 0.18181818181818182,\n",
              " 'generic': 0.2727272727272727,\n",
              " 'obtaining': 0.09090909090909091,\n",
              " 'summary': 0.36363636363636365,\n",
              " 'abstract': 0.18181818181818182,\n",
              " 'collection': 0.2727272727272727,\n",
              " 'documents': 0.18181818181818182,\n",
              " 'sets': 0.09090909090909091,\n",
              " 'images': 0.2727272727272727,\n",
              " 'videos': 0.2727272727272727,\n",
              " 'news': 0.36363636363636365,\n",
              " 'stories': 0.09090909090909091,\n",
              " 'etc': 0.09090909090909091,\n",
              " 'second': 0.09090909090909091,\n",
              " 'query': 0.36363636363636365,\n",
              " 'relevant': 0.18181818181818182,\n",
              " 'called': 0.18181818181818182,\n",
              " 'based': 0.09090909090909091,\n",
              " 'summarizes': 0.09090909090909091,\n",
              " 'objects': 0.09090909090909091,\n",
              " 'specific': 0.09090909090909091,\n",
              " 'Summarization': 0.09090909090909091,\n",
              " 'systems': 0.09090909090909091,\n",
              " 'able': 0.09090909090909091,\n",
              " 'create': 0.09090909090909091,\n",
              " 'text': 0.09090909090909091,\n",
              " 'summaries': 0.18181818181818182,\n",
              " 'machine': 0.09090909090909091,\n",
              " 'generated': 0.09090909090909091,\n",
              " 'user': 0.09090909090909091,\n",
              " 'needs': 0.09090909090909091,\n",
              " '\\n': 0.18181818181818182,\n",
              " 'example': 0.2727272727272727,\n",
              " 'problem': 0.18181818181818182,\n",
              " 'document': 0.36363636363636365,\n",
              " 'attempts': 0.09090909090909091,\n",
              " 'automatically': 0.2727272727272727,\n",
              " 'produce': 0.09090909090909091,\n",
              " 'given': 0.18181818181818182,\n",
              " 'interested': 0.09090909090909091,\n",
              " 'generating': 0.09090909090909091,\n",
              " 'single': 0.09090909090909091,\n",
              " 'source': 0.18181818181818182,\n",
              " 'use': 0.09090909090909091,\n",
              " 'multiple': 0.09090909090909091,\n",
              " 'cluster': 0.09090909090909091,\n",
              " 'articles': 0.2727272727272727,\n",
              " 'topic': 0.18181818181818182,\n",
              " 'multi': 0.09090909090909091,\n",
              " 'related': 0.18181818181818182,\n",
              " 'application': 0.18181818181818182,\n",
              " 'summarizing': 0.09090909090909091,\n",
              " 'Imagine': 0.09090909090909091,\n",
              " 'system': 0.2727272727272727,\n",
              " 'pulls': 0.09090909090909091,\n",
              " 'web': 0.09090909090909091,\n",
              " 'concisely': 0.09090909090909091,\n",
              " 'represents': 0.09090909090909091,\n",
              " 'latest': 0.09090909090909091,\n",
              " 'Image': 0.09090909090909091,\n",
              " 'automatic': 0.09090909090909091,\n",
              " 'consists': 0.09090909090909091,\n",
              " 'selecting': 0.09090909090909091,\n",
              " 'representative': 0.18181818181818182,\n",
              " 'set': 0.18181818181818182,\n",
              " 'larger': 0.09090909090909091,\n",
              " 'images.[4': 0.09090909090909091,\n",
              " 'context': 0.09090909090909091,\n",
              " 'useful': 0.09090909090909091,\n",
              " 'results': 0.09090909090909091,\n",
              " 'image': 0.09090909090909091,\n",
              " 'exploration': 0.09090909090909091,\n",
              " 'Video': 0.09090909090909091,\n",
              " 'domain': 0.09090909090909091,\n",
              " 'creates': 0.09090909090909091,\n",
              " 'trailer': 0.09090909090909091,\n",
              " 'long': 0.09090909090909091,\n",
              " 'video': 0.09090909090909091,\n",
              " 'applications': 0.09090909090909091,\n",
              " 'consumer': 0.09090909090909091,\n",
              " 'personal': 0.09090909090909091,\n",
              " 'want': 0.18181818181818182,\n",
              " 'skip': 0.09090909090909091,\n",
              " 'boring': 0.18181818181818182,\n",
              " 'repetitive': 0.09090909090909091,\n",
              " 'actions': 0.09090909090909091,\n",
              " 'Similarly': 0.09090909090909091,\n",
              " 'surveillance': 0.09090909090909091,\n",
              " 'extract': 0.09090909090909091,\n",
              " 'important': 0.09090909090909091,\n",
              " 'suspicious': 0.09090909090909091,\n",
              " 'activity': 0.09090909090909091,\n",
              " 'ignoring': 0.09090909090909091,\n",
              " 'redundant': 0.09090909090909091,\n",
              " 'frames': 0.09090909090909091,\n",
              " 'captured': 0.09090909090909091}"
            ]
          },
          "metadata": {},
          "execution_count": 41
        }
      ]
    },
    {
      "cell_type": "code",
      "source": [
        "sentence_tokens=[sent for sent in doc.sents]\n",
        "sentence_tokens"
      ],
      "metadata": {
        "colab": {
          "base_uri": "https://localhost:8080/"
        },
        "id": "jyZ0FAUCdXVW",
        "outputId": "e21a304a-3b6a-45f5-a444-c7c77dbe9ec0"
      },
      "execution_count": 42,
      "outputs": [
        {
          "output_type": "execute_result",
          "data": {
            "text/plain": [
              "[There are broadly two types of extractive summarization tasks depending on what the summarization program focuses on.,\n",
              " The first is generic summarization, which focuses on obtaining a generic summary or abstract of the collection (whether documents, or sets of images, or videos, news stories etc.).,\n",
              " The second is query relevant summarization, sometimes called query-based summarization, which summarizes objects specific to a query.,\n",
              " Summarization systems are able to create both query relevant text summaries and generic machine-generated summaries depending on what the user needs.,\n",
              " An example of a summarization problem is document summarization, which attempts to automatically produce an abstract from a given document.,\n",
              " Sometimes one might be interested in generating a summary from a single source document, while others can use multiple source documents (for example, a cluster of articles on the same topic).,\n",
              " This problem is called multi-document summarization.,\n",
              " A related application is summarizing news articles.,\n",
              " Imagine a system, which automatically pulls together news articles on a given topic (from the web), and concisely represents the latest news as a summary.,\n",
              " Image collection summarization is another application example of automatic summarization.,\n",
              " It consists in selecting a representative set of images from a larger set of images.[4],\n",
              " A summary in this context is useful to show the most representative images of results in an image collection exploration system.,\n",
              " Video summarization is a related domain, where the system automatically creates a trailer of a long video.,\n",
              " This also has applications in consumer or personal videos, where one might want to skip the boring or repetitive actions.,\n",
              " Similarly, in surveillance videos, one would want to extract important and suspicious activity, while ignoring all the boring and redundant frames captured]"
            ]
          },
          "metadata": {},
          "execution_count": 42
        }
      ]
    },
    {
      "cell_type": "code",
      "source": [
        "sentence_score={}\n",
        "\n",
        "for sent in sentence_tokens:\n",
        "  for word in sent:\n",
        "    if word.text.lower() in word_frequencies.keys():\n",
        "      if sent not in sentence_score.keys():\n",
        "        sentence_score[sent]=word_frequencies[word.text.lower()]\n",
        "      else:\n",
        "        sentence_score[sent]+=word_frequencies[word.text.lower()]\n"
      ],
      "metadata": {
        "id": "p-jXejkDdm9X"
      },
      "execution_count": 43,
      "outputs": []
    },
    {
      "cell_type": "code",
      "source": [
        "sentence_score"
      ],
      "metadata": {
        "colab": {
          "base_uri": "https://localhost:8080/"
        },
        "id": "qY3wLcvQeGlk",
        "outputId": "4fc092af-cdb2-434a-ecfd-bae7678880c8"
      },
      "execution_count": 44,
      "outputs": [
        {
          "output_type": "execute_result",
          "data": {
            "text/plain": [
              "{There are broadly two types of extractive summarization tasks depending on what the summarization program focuses on.: 2.818181818181818,\n",
              " The first is generic summarization, which focuses on obtaining a generic summary or abstract of the collection (whether documents, or sets of images, or videos, news stories etc.).: 3.9999999999999987,\n",
              " The second is query relevant summarization, sometimes called query-based summarization, which summarizes objects specific to a query.: 3.909090909090909,\n",
              " Summarization systems are able to create both query relevant text summaries and generic machine-generated summaries depending on what the user needs.: 3.2727272727272716,\n",
              " An example of a summarization problem is document summarization, which attempts to automatically produce an abstract from a given document.: 3.9999999999999996,\n",
              " Sometimes one might be interested in generating a summary from a single source document, while others can use multiple source documents (for example, a cluster of articles on the same topic).: 2.545454545454545,\n",
              " This problem is called multi-document summarization.: 1.8181818181818183,\n",
              " A related application is summarizing news articles.: 1.0909090909090908,\n",
              " Imagine a system, which automatically pulls together news articles on a given topic (from the web), and concisely represents the latest news as a summary.: 2.9090909090909087,\n",
              " Image collection summarization is another application example of automatic summarization.: 2.909090909090909,\n",
              " It consists in selecting a representative set of images from a larger set of images.[4]: 1.1818181818181817,\n",
              " A summary in this context is useful to show the most representative images of results in an image collection exploration system.: 1.818181818181818,\n",
              " Video summarization is a related domain, where the system automatically creates a trailer of a long video.: 2.2727272727272725,\n",
              " This also has applications in consumer or personal videos, where one might want to skip the boring or repetitive actions.: 1.1818181818181817,\n",
              " Similarly, in surveillance videos, one would want to extract important and suspicious activity, while ignoring all the boring and redundant frames captured: 1.4545454545454544}"
            ]
          },
          "metadata": {},
          "execution_count": 44
        }
      ]
    },
    {
      "cell_type": "code",
      "source": [
        "from heapq import nlargest"
      ],
      "metadata": {
        "id": "5aaBF6nUeIuV"
      },
      "execution_count": 45,
      "outputs": []
    },
    {
      "cell_type": "code",
      "source": [
        "select_length=int(len(sentence_score)*0.4)\n",
        "select_length"
      ],
      "metadata": {
        "colab": {
          "base_uri": "https://localhost:8080/"
        },
        "id": "YBnRONNSeS0n",
        "outputId": "938e2672-36e6-4005-90f6-a0223250439a"
      },
      "execution_count": 46,
      "outputs": [
        {
          "output_type": "execute_result",
          "data": {
            "text/plain": [
              "6"
            ]
          },
          "metadata": {},
          "execution_count": 46
        }
      ]
    },
    {
      "cell_type": "code",
      "source": [
        "summary=nlargest(select_length,sentence_score,key=sentence_score.get)\n",
        "summary"
      ],
      "metadata": {
        "colab": {
          "base_uri": "https://localhost:8080/"
        },
        "id": "LenmaLh1eZm-",
        "outputId": "e0c5e820-921c-4c90-f6a9-296d2a8bc12c"
      },
      "execution_count": 47,
      "outputs": [
        {
          "output_type": "execute_result",
          "data": {
            "text/plain": [
              "[An example of a summarization problem is document summarization, which attempts to automatically produce an abstract from a given document.,\n",
              " The first is generic summarization, which focuses on obtaining a generic summary or abstract of the collection (whether documents, or sets of images, or videos, news stories etc.).,\n",
              " The second is query relevant summarization, sometimes called query-based summarization, which summarizes objects specific to a query.,\n",
              " Summarization systems are able to create both query relevant text summaries and generic machine-generated summaries depending on what the user needs.,\n",
              " Image collection summarization is another application example of automatic summarization.,\n",
              " Imagine a system, which automatically pulls together news articles on a given topic (from the web), and concisely represents the latest news as a summary.]"
            ]
          },
          "metadata": {},
          "execution_count": 47
        }
      ]
    },
    {
      "cell_type": "code",
      "source": [
        "print(summary)"
      ],
      "metadata": {
        "colab": {
          "base_uri": "https://localhost:8080/"
        },
        "id": "YIgupR71ehOo",
        "outputId": "69441310-7fa7-4592-e366-4e12f7420af7"
      },
      "execution_count": 48,
      "outputs": [
        {
          "output_type": "stream",
          "name": "stdout",
          "text": [
            "[An example of a summarization problem is document summarization, which attempts to automatically produce an abstract from a given document., The first is generic summarization, which focuses on obtaining a generic summary or abstract of the collection (whether documents, or sets of images, or videos, news stories etc.)., The second is query relevant summarization, sometimes called query-based summarization, which summarizes objects specific to a query., Summarization systems are able to create both query relevant text summaries and generic machine-generated summaries depending on what the user needs.\n",
            ", Image collection summarization is another application example of automatic summarization., Imagine a system, which automatically pulls together news articles on a given topic (from the web), and concisely represents the latest news as a summary.\n",
            "]\n"
          ]
        }
      ]
    },
    {
      "cell_type": "code",
      "source": [],
      "metadata": {
        "id": "7cl2ktD1es4z"
      },
      "execution_count": null,
      "outputs": []
    }
  ]
}