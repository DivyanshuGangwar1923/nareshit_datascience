{
 "cells": [
  {
   "cell_type": "code",
   "execution_count": 2,
   "id": "e7912446-1eee-406e-84e8-131c39a709f8",
   "metadata": {},
   "outputs": [],
   "source": [
    "import numpy as np"
   ]
  },
  {
   "cell_type": "code",
   "execution_count": 3,
   "id": "6eb33a55-ad3c-4e8e-a0b1-653b90e73753",
   "metadata": {},
   "outputs": [],
   "source": [
    "#Seasons\n",
    "Seasons=[\"2015\",\"2016\",\"2017\",\"2018\",\"2019\",\"2020\",\"2021\",\"2022\",\"2023\",\"2024\"]\n",
    "Sdict={\"2015\":0,\"2016\":1,\"2017\":2,\"2018\":3,\"2019\":4,\"2020\":5,\"2021\":6,\"2022\":7,\"2023\":8,\"2024\":9}\n",
    "\n",
    "#Players\n",
    "Players=[\"Sachin\",\"Rahul\",\"Smith\",\"Sami\",\"Pollard\",\"Morris\",\"Samson\",\"Dhoni\",\"Kohli\",\"Sky\"]\n",
    "Pdict={\"Sachin\":0,\"Rahul\":1,\"Smith\":2,\"Sami\":3,\"Pollard\":4,\"Morris\":5,\"Samson\":6,\"Dhoni\":7,\"Kohli\":8,\"Sky\":9}\n",
    "\n",
    "# Salaries\n",
    "Sachin_Salary = [48291537, 92746105, 13672948, 80519462, 39281746, 74058219, 15820364, 62417953, 29147385, 51796240]\n",
    "Rahul_Salary = [51283947, 69317502, 87192034, 48270195, 92736481, 61592740, 39481275, 70419538, 82947162, 39581740]\n",
    "Smith_Salary = [81492735, 20471938, 92741625, 18479162, 90745128, 62478913, 84917520, 16274931, 79318542, 49127530]\n",
    "Sami_Salary = [39581746, 82947163, 29481673, 75829104, 18492751, 40719582, 62847193, 92741865, 71583920, 48162735]\n",
    "Pollard_Salary = [92741625, 39581746, 29481756, 82749163, 92847106, 39147285, 48291765, 72846193, 81492751, 29481736]\n",
    "Morris_Salary = [29481746, 40719583, 92741865, 18492750, 29481674, 75829103, 62847192, 92741625, 71583921, 48162734]\n",
    "Samson_Salary = [92746105, 81583920, 29481735, 75829105, 18492752, 40719581, 62847194, 92741864, 71583922, 48162736]\n",
    "Dhoni_Salary = [48291537, 92746104, 13672947, 80519461, 39281745, 74058218, 15820363, 62417952, 29147384, 51796239]\n",
    "Kohli_Salary = [51796241, 29147386, 62417954, 15820365, 74058220, 39281747, 80519463, 13672949, 92746106, 48291538]\n",
    "Sky_Salary = [62417955, 15820366, 74058221, 39281748, 80519464, 13672950, 92746107, 48291539, 51796242, 29147387]\n",
    "#Matrix\n",
    "\n",
    "Salary=np.array([Sachin_Salary,Rahul_Salary,Smith_Salary,Sami_Salary,Pollard_Salary,Morris_Salary,Samson_Salary,Dhoni_Salary,Kohli_Salary,Sky_Salary])  \n",
    "\n",
    "\n",
    "#Games\n",
    "\n",
    "Sachin_G = [45, 78, 3, 29, 0, 81, 37, 92, 8, 66]\n",
    "Rahul_G = [59, 74, 6, 33, 88, 4, 57, 69, 2, 53]\n",
    "Smith_G = [68, 7, 49, 58, 71, 62, 85, 4, 39, 80]\n",
    "Sami_G = [5, 67, 88, 44, 7, 31, 79, 68, 0, 61]\n",
    "Pollard_G = [76, 5, 92, 47, 86, 8, 74, 6, 81, 9]\n",
    "Morris_G = [9, 84, 5, 70, 66, 91, 7, 60, 78, 6]\n",
    "Samson_G = [73, 9, 87, 46, 6, 79, 4, 88, 67, 7]\n",
    "Dhoni_G = [82, 6, 0, 77, 9, 84, 5, 1, 72, 65]\n",
    "Kohli_G = [70, 8, 49, 76, 62, 89, 5, 91, 6, 80]\n",
    "Sky_G = [8, 77, 64, 7, 81, 5, 69, 74, 3, 87]\n",
    "#Matrix\n",
    "\n",
    "Games=np.array([Sachin_G,Rahul_G,Smith_G,Sami_G,Pollard_G,Morris_G,Samson_G,Dhoni_G,Kohli_G,Sky_G])\n",
    "\n",
    "#Points\n",
    "\n",
    "Sachin_PTS = [2450, 1782, 305, 2294, 1500, 2811, 837, 2920, 1488, 2660]\n",
    "Rahul_PTS = [1594, 2744, 660, 2033, 2888, 504, 1757, 1269, 2652, 1953]\n",
    "Smith_PTS = [1168, 2707, 849, 1558, 2271, 862, 2185, 1044, 2139, 1180]\n",
    "Sami_PTS = [1505, 2167, 1888, 1144, 2072, 631, 2179, 1068, 550, 1861]\n",
    "Pollard_PTS = [1976, 1505, 2992, 1147, 2486, 808, 1374, 2606, 1681, 2099]\n",
    "Morris_PTS = [2099, 984, 1505, 2770, 1566, 1091, 1777, 2060, 2878, 906]\n",
    "Samson_PTS = [1273, 2599, 1987, 1046, 2606, 1379, 2544, 2288, 1667, 2177]\n",
    "Dhoni_PTS = [1982, 2068, 250, 2777, 1269, 1484, 2555, 1861, 2072, 1965]\n",
    "Kohli_PTS = [2470, 1985, 1049, 2076, 2662, 1089, 2585, 1991, 1666, 1880]\n",
    "Sky_PTS = [1258, 1777, 2164, 1972, 2781, 1255, 2669, 1574, 2053, 2487]\n",
    "#Matrix\n",
    "\n",
    "Points=np.array([Sachin_PTS,Rahul_PTS,Smith_PTS,Sami_PTS,Pollard_PTS,Morris_PTS,Samson_PTS,Dhoni_PTS,Kohli_PTS,Sky_PTS])\n",
    "\n",
    "\n"
   ]
  },
  {
   "cell_type": "code",
   "execution_count": 5,
   "id": "0695bddd-507c-4a45-a596-7c518c3a93e4",
   "metadata": {},
   "outputs": [
    {
     "data": {
      "text/plain": [
       "array([[48291537, 92746105, 13672948, 80519462, 39281746, 74058219,\n",
       "        15820364, 62417953, 29147385, 51796240],\n",
       "       [51283947, 69317502, 87192034, 48270195, 92736481, 61592740,\n",
       "        39481275, 70419538, 82947162, 39581740],\n",
       "       [81492735, 20471938, 92741625, 18479162, 90745128, 62478913,\n",
       "        84917520, 16274931, 79318542, 49127530],\n",
       "       [39581746, 82947163, 29481673, 75829104, 18492751, 40719582,\n",
       "        62847193, 92741865, 71583920, 48162735],\n",
       "       [92741625, 39581746, 29481756, 82749163, 92847106, 39147285,\n",
       "        48291765, 72846193, 81492751, 29481736],\n",
       "       [29481746, 40719583, 92741865, 18492750, 29481674, 75829103,\n",
       "        62847192, 92741625, 71583921, 48162734],\n",
       "       [92746105, 81583920, 29481735, 75829105, 18492752, 40719581,\n",
       "        62847194, 92741864, 71583922, 48162736],\n",
       "       [48291537, 92746104, 13672947, 80519461, 39281745, 74058218,\n",
       "        15820363, 62417952, 29147384, 51796239],\n",
       "       [51796241, 29147386, 62417954, 15820365, 74058220, 39281747,\n",
       "        80519463, 13672949, 92746106, 48291538],\n",
       "       [62417955, 15820366, 74058221, 39281748, 80519464, 13672950,\n",
       "        92746107, 48291539, 51796242, 29147387]])"
      ]
     },
     "execution_count": 5,
     "metadata": {},
     "output_type": "execute_result"
    }
   ],
   "source": [
    "Salary"
   ]
  },
  {
   "cell_type": "code",
   "execution_count": 6,
   "id": "f8b7a4c5-36ad-4a8d-94dc-8dfbc8f7091b",
   "metadata": {},
   "outputs": [
    {
     "data": {
      "text/plain": [
       "array([[45, 78,  3, 29,  0, 81, 37, 92,  8, 66],\n",
       "       [59, 74,  6, 33, 88,  4, 57, 69,  2, 53],\n",
       "       [68,  7, 49, 58, 71, 62, 85,  4, 39, 80],\n",
       "       [ 5, 67, 88, 44,  7, 31, 79, 68,  0, 61],\n",
       "       [76,  5, 92, 47, 86,  8, 74,  6, 81,  9],\n",
       "       [ 9, 84,  5, 70, 66, 91,  7, 60, 78,  6],\n",
       "       [73,  9, 87, 46,  6, 79,  4, 88, 67,  7],\n",
       "       [82,  6,  0, 77,  9, 84,  5,  1, 72, 65],\n",
       "       [70,  8, 49, 76, 62, 89,  5, 91,  6, 80],\n",
       "       [ 8, 77, 64,  7, 81,  5, 69, 74,  3, 87]])"
      ]
     },
     "execution_count": 6,
     "metadata": {},
     "output_type": "execute_result"
    }
   ],
   "source": [
    "Games"
   ]
  },
  {
   "cell_type": "code",
   "execution_count": 7,
   "id": "3564202c-f19a-4c8f-bfba-da36e98dc060",
   "metadata": {},
   "outputs": [
    {
     "data": {
      "text/plain": [
       "array([[2450, 1782,  305, 2294, 1500, 2811,  837, 2920, 1488, 2660],\n",
       "       [1594, 2744,  660, 2033, 2888,  504, 1757, 1269, 2652, 1953],\n",
       "       [1168, 2707,  849, 1558, 2271,  862, 2185, 1044, 2139, 1180],\n",
       "       [1505, 2167, 1888, 1144, 2072,  631, 2179, 1068,  550, 1861],\n",
       "       [1976, 1505, 2992, 1147, 2486,  808, 1374, 2606, 1681, 2099],\n",
       "       [2099,  984, 1505, 2770, 1566, 1091, 1777, 2060, 2878,  906],\n",
       "       [1273, 2599, 1987, 1046, 2606, 1379, 2544, 2288, 1667, 2177],\n",
       "       [1982, 2068,  250, 2777, 1269, 1484, 2555, 1861, 2072, 1965],\n",
       "       [2470, 1985, 1049, 2076, 2662, 1089, 2585, 1991, 1666, 1880],\n",
       "       [1258, 1777, 2164, 1972, 2781, 1255, 2669, 1574, 2053, 2487]])"
      ]
     },
     "execution_count": 7,
     "metadata": {},
     "output_type": "execute_result"
    }
   ],
   "source": [
    "Points"
   ]
  },
  {
   "cell_type": "code",
   "execution_count": 8,
   "id": "3a81ebf1-4f9c-4a61-a38f-561394cb58d6",
   "metadata": {},
   "outputs": [
    {
     "data": {
      "text/plain": [
       "array([ 9, 84,  5, 70, 66, 91,  7, 60, 78,  6])"
      ]
     },
     "execution_count": 8,
     "metadata": {},
     "output_type": "execute_result"
    }
   ],
   "source": [
    "Games[5]"
   ]
  },
  {
   "cell_type": "code",
   "execution_count": 9,
   "id": "9edbbae8-39bf-4be4-afa4-353561ef3729",
   "metadata": {},
   "outputs": [
    {
     "data": {
      "text/plain": [
       "array([[45, 78,  3, 29,  0, 81, 37, 92,  8, 66],\n",
       "       [59, 74,  6, 33, 88,  4, 57, 69,  2, 53],\n",
       "       [68,  7, 49, 58, 71, 62, 85,  4, 39, 80],\n",
       "       [ 5, 67, 88, 44,  7, 31, 79, 68,  0, 61],\n",
       "       [76,  5, 92, 47, 86,  8, 74,  6, 81,  9]])"
      ]
     },
     "execution_count": 9,
     "metadata": {},
     "output_type": "execute_result"
    }
   ],
   "source": [
    "Games[0:5]"
   ]
  },
  {
   "cell_type": "code",
   "execution_count": 10,
   "id": "db12d170-d2b6-46d9-8f28-848dd66562f5",
   "metadata": {},
   "outputs": [
    {
     "data": {
      "text/plain": [
       "81"
      ]
     },
     "execution_count": 10,
     "metadata": {},
     "output_type": "execute_result"
    }
   ],
   "source": [
    "Games[0,5]"
   ]
  },
  {
   "cell_type": "code",
   "execution_count": 11,
   "id": "d6cd7afd-0c3d-4d85-95b9-9e357db54acd",
   "metadata": {},
   "outputs": [
    {
     "data": {
      "text/plain": [
       "array([[48291537, 92746105, 13672948, 80519462, 39281746, 74058219,\n",
       "        15820364, 62417953, 29147385, 51796240],\n",
       "       [51283947, 69317502, 87192034, 48270195, 92736481, 61592740,\n",
       "        39481275, 70419538, 82947162, 39581740],\n",
       "       [81492735, 20471938, 92741625, 18479162, 90745128, 62478913,\n",
       "        84917520, 16274931, 79318542, 49127530],\n",
       "       [39581746, 82947163, 29481673, 75829104, 18492751, 40719582,\n",
       "        62847193, 92741865, 71583920, 48162735],\n",
       "       [92741625, 39581746, 29481756, 82749163, 92847106, 39147285,\n",
       "        48291765, 72846193, 81492751, 29481736],\n",
       "       [29481746, 40719583, 92741865, 18492750, 29481674, 75829103,\n",
       "        62847192, 92741625, 71583921, 48162734],\n",
       "       [92746105, 81583920, 29481735, 75829105, 18492752, 40719581,\n",
       "        62847194, 92741864, 71583922, 48162736],\n",
       "       [48291537, 92746104, 13672947, 80519461, 39281745, 74058218,\n",
       "        15820363, 62417952, 29147384, 51796239],\n",
       "       [51796241, 29147386, 62417954, 15820365, 74058220, 39281747,\n",
       "        80519463, 13672949, 92746106, 48291538],\n",
       "       [62417955, 15820366, 74058221, 39281748, 80519464, 13672950,\n",
       "        92746107, 48291539, 51796242, 29147387]])"
      ]
     },
     "execution_count": 11,
     "metadata": {},
     "output_type": "execute_result"
    }
   ],
   "source": [
    "Salary"
   ]
  },
  {
   "cell_type": "code",
   "execution_count": 12,
   "id": "9badd7ef-a553-46ba-a194-b5dd8328095e",
   "metadata": {},
   "outputs": [
    {
     "name": "stderr",
     "output_type": "stream",
     "text": [
      "C:\\Users\\divya\\AppData\\Local\\Temp\\ipykernel_22656\\3709746658.py:1: RuntimeWarning: divide by zero encountered in divide\n",
      "  Salary/Games\n"
     ]
    },
    {
     "data": {
      "text/plain": [
       "array([[ 1073145.26666667,  1189052.62820513,  4557649.33333333,\n",
       "         2776533.17241379,               inf,   914299.        ,\n",
       "          427577.40540541,   678456.01086957,  3643423.125     ,\n",
       "          784791.51515152],\n",
       "       [  869219.44067797,   936723.        , 14532005.66666667,\n",
       "         1462733.18181818,  1053823.64772727, 15398185.        ,\n",
       "          692653.94736842,  1020573.01449275, 41473581.        ,\n",
       "          746825.28301887],\n",
       "       [ 1198422.57352941,  2924562.57142857,  1892686.2244898 ,\n",
       "          318606.24137931,  1278100.3943662 ,  1007724.40322581,\n",
       "          999029.64705882,  4068732.75      ,  2033808.76923077,\n",
       "          614094.125     ],\n",
       "       [ 7916349.2       ,  1238017.35820896,   335019.01136364,\n",
       "         1723388.72727273,  2641821.57142857,  1313534.90322581,\n",
       "          795534.08860759,  1363850.95588235,               inf,\n",
       "          789553.03278689],\n",
       "       [ 1220284.53947368,  7916349.2       ,   320453.86956522,\n",
       "         1760620.4893617 ,  1079617.51162791,  4893410.625     ,\n",
       "          652591.41891892, 12141032.16666667,  1006083.34567901,\n",
       "         3275748.44444444],\n",
       "       [ 3275749.55555556,   484756.94047619, 18548373.        ,\n",
       "          264182.14285714,   446692.03030303,   833286.84615385,\n",
       "         8978170.28571429,  1545693.75      ,   917742.57692308,\n",
       "         8027122.33333333],\n",
       "       [ 1270494.5890411 ,  9064880.        ,   338870.51724138,\n",
       "         1648458.80434783,  3082125.33333333,   515437.73417722,\n",
       "        15711798.5       ,  1053884.81818182,  1068416.74626866,\n",
       "         6880390.85714286],\n",
       "       [  588921.18292683, 15457684.        ,               inf,\n",
       "         1045707.28571429,  4364638.33333333,   881645.45238095,\n",
       "         3164072.6       , 62417952.        ,   404824.77777778,\n",
       "          796865.21538462],\n",
       "       [  739946.3       ,  3643423.25      ,  1273835.79591837,\n",
       "          208162.69736842,  1194487.41935484,   441367.94382022,\n",
       "        16103892.6       ,   150252.18681319, 15457684.33333333,\n",
       "          603644.225     ],\n",
       "       [ 7802244.375     ,   205459.2987013 ,  1157159.703125  ,\n",
       "         5611678.28571429,   994067.45679012,  2734590.        ,\n",
       "         1344146.47826087,   652588.36486486, 17265414.        ,\n",
       "          335027.43678161]])"
      ]
     },
     "execution_count": 12,
     "metadata": {},
     "output_type": "execute_result"
    }
   ],
   "source": [
    "Salary/Games"
   ]
  },
  {
   "cell_type": "code",
   "execution_count": 13,
   "id": "8576b8d8-4a17-426c-bcfb-a1e3999cbc05",
   "metadata": {},
   "outputs": [
    {
     "name": "stderr",
     "output_type": "stream",
     "text": [
      "C:\\Users\\divya\\AppData\\Local\\Temp\\ipykernel_22656\\3232172828.py:1: RuntimeWarning: divide by zero encountered in divide\n",
      "  np.round(Salary/Games)\n"
     ]
    },
    {
     "data": {
      "text/plain": [
       "array([[ 1073145.,  1189053.,  4557649.,  2776533.,       inf,   914299.,\n",
       "          427577.,   678456.,  3643423.,   784792.],\n",
       "       [  869219.,   936723., 14532006.,  1462733.,  1053824., 15398185.,\n",
       "          692654.,  1020573., 41473581.,   746825.],\n",
       "       [ 1198423.,  2924563.,  1892686.,   318606.,  1278100.,  1007724.,\n",
       "          999030.,  4068733.,  2033809.,   614094.],\n",
       "       [ 7916349.,  1238017.,   335019.,  1723389.,  2641822.,  1313535.,\n",
       "          795534.,  1363851.,       inf,   789553.],\n",
       "       [ 1220285.,  7916349.,   320454.,  1760620.,  1079618.,  4893411.,\n",
       "          652591., 12141032.,  1006083.,  3275748.],\n",
       "       [ 3275750.,   484757., 18548373.,   264182.,   446692.,   833287.,\n",
       "         8978170.,  1545694.,   917743.,  8027122.],\n",
       "       [ 1270495.,  9064880.,   338871.,  1648459.,  3082125.,   515438.,\n",
       "        15711798.,  1053885.,  1068417.,  6880391.],\n",
       "       [  588921., 15457684.,       inf,  1045707.,  4364638.,   881645.,\n",
       "         3164073., 62417952.,   404825.,   796865.],\n",
       "       [  739946.,  3643423.,  1273836.,   208163.,  1194487.,   441368.,\n",
       "        16103893.,   150252., 15457684.,   603644.],\n",
       "       [ 7802244.,   205459.,  1157160.,  5611678.,   994067.,  2734590.,\n",
       "         1344146.,   652588., 17265414.,   335027.]])"
      ]
     },
     "execution_count": 13,
     "metadata": {},
     "output_type": "execute_result"
    }
   ],
   "source": [
    "np.round(Salary/Games)"
   ]
  },
  {
   "cell_type": "code",
   "execution_count": 14,
   "id": "b1a9da67-7724-44e4-8b78-eaf788f39c34",
   "metadata": {},
   "outputs": [
    {
     "name": "stderr",
     "output_type": "stream",
     "text": [
      "C:\\Users\\divya\\AppData\\Local\\Temp\\ipykernel_22656\\3663165759.py:1: RuntimeWarning: divide by zero encountered in floor_divide\n",
      "  np.round(Salary//Games)\n"
     ]
    },
    {
     "data": {
      "text/plain": [
       "array([[ 1073145,  1189052,  4557649,  2776533,        0,   914299,\n",
       "          427577,   678456,  3643423,   784791],\n",
       "       [  869219,   936723, 14532005,  1462733,  1053823, 15398185,\n",
       "          692653,  1020573, 41473581,   746825],\n",
       "       [ 1198422,  2924562,  1892686,   318606,  1278100,  1007724,\n",
       "          999029,  4068732,  2033808,   614094],\n",
       "       [ 7916349,  1238017,   335019,  1723388,  2641821,  1313534,\n",
       "          795534,  1363850,        0,   789553],\n",
       "       [ 1220284,  7916349,   320453,  1760620,  1079617,  4893410,\n",
       "          652591, 12141032,  1006083,  3275748],\n",
       "       [ 3275749,   484756, 18548373,   264182,   446692,   833286,\n",
       "         8978170,  1545693,   917742,  8027122],\n",
       "       [ 1270494,  9064880,   338870,  1648458,  3082125,   515437,\n",
       "        15711798,  1053884,  1068416,  6880390],\n",
       "       [  588921, 15457684,        0,  1045707,  4364638,   881645,\n",
       "         3164072, 62417952,   404824,   796865],\n",
       "       [  739946,  3643423,  1273835,   208162,  1194487,   441367,\n",
       "        16103892,   150252, 15457684,   603644],\n",
       "       [ 7802244,   205459,  1157159,  5611678,   994067,  2734590,\n",
       "         1344146,   652588, 17265414,   335027]])"
      ]
     },
     "execution_count": 14,
     "metadata": {},
     "output_type": "execute_result"
    }
   ],
   "source": [
    "np.round(Salary//Games)"
   ]
  },
  {
   "cell_type": "code",
   "execution_count": 15,
   "id": "ec54919d-f8ee-423a-89f7-f988ed20b626",
   "metadata": {},
   "outputs": [],
   "source": [
    "import warnings\n",
    "warnings.filterwarnings('ignore')"
   ]
  },
  {
   "cell_type": "code",
   "execution_count": 16,
   "id": "e5490650-b44a-4a6e-aa0d-116573b96184",
   "metadata": {},
   "outputs": [
    {
     "data": {
      "text/plain": [
       "array([[ 1073145,  1189052,  4557649,  2776533,        0,   914299,\n",
       "          427577,   678456,  3643423,   784791],\n",
       "       [  869219,   936723, 14532005,  1462733,  1053823, 15398185,\n",
       "          692653,  1020573, 41473581,   746825],\n",
       "       [ 1198422,  2924562,  1892686,   318606,  1278100,  1007724,\n",
       "          999029,  4068732,  2033808,   614094],\n",
       "       [ 7916349,  1238017,   335019,  1723388,  2641821,  1313534,\n",
       "          795534,  1363850,        0,   789553],\n",
       "       [ 1220284,  7916349,   320453,  1760620,  1079617,  4893410,\n",
       "          652591, 12141032,  1006083,  3275748],\n",
       "       [ 3275749,   484756, 18548373,   264182,   446692,   833286,\n",
       "         8978170,  1545693,   917742,  8027122],\n",
       "       [ 1270494,  9064880,   338870,  1648458,  3082125,   515437,\n",
       "        15711798,  1053884,  1068416,  6880390],\n",
       "       [  588921, 15457684,        0,  1045707,  4364638,   881645,\n",
       "         3164072, 62417952,   404824,   796865],\n",
       "       [  739946,  3643423,  1273835,   208162,  1194487,   441367,\n",
       "        16103892,   150252, 15457684,   603644],\n",
       "       [ 7802244,   205459,  1157159,  5611678,   994067,  2734590,\n",
       "         1344146,   652588, 17265414,   335027]])"
      ]
     },
     "execution_count": 16,
     "metadata": {},
     "output_type": "execute_result"
    }
   ],
   "source": [
    "np.round(Salary//Games)"
   ]
  },
  {
   "cell_type": "code",
   "execution_count": 17,
   "id": "a9c80043-fffe-4a96-b5dd-634ccc466b74",
   "metadata": {},
   "outputs": [],
   "source": [
    "## ------First Visualization --- ##"
   ]
  },
  {
   "cell_type": "code",
   "execution_count": 19,
   "id": "bd619e26-e2e2-491d-a823-fba97b5eb180",
   "metadata": {},
   "outputs": [],
   "source": [
    "import matplotlib.pyplot as plt "
   ]
  },
  {
   "cell_type": "code",
   "execution_count": 20,
   "id": "99999ebc-7cd9-42a8-a101-6a932c0c7b86",
   "metadata": {},
   "outputs": [
    {
     "data": {
      "text/plain": [
       "array([[48291537, 92746105, 13672948, 80519462, 39281746, 74058219,\n",
       "        15820364, 62417953, 29147385, 51796240],\n",
       "       [51283947, 69317502, 87192034, 48270195, 92736481, 61592740,\n",
       "        39481275, 70419538, 82947162, 39581740],\n",
       "       [81492735, 20471938, 92741625, 18479162, 90745128, 62478913,\n",
       "        84917520, 16274931, 79318542, 49127530],\n",
       "       [39581746, 82947163, 29481673, 75829104, 18492751, 40719582,\n",
       "        62847193, 92741865, 71583920, 48162735],\n",
       "       [92741625, 39581746, 29481756, 82749163, 92847106, 39147285,\n",
       "        48291765, 72846193, 81492751, 29481736],\n",
       "       [29481746, 40719583, 92741865, 18492750, 29481674, 75829103,\n",
       "        62847192, 92741625, 71583921, 48162734],\n",
       "       [92746105, 81583920, 29481735, 75829105, 18492752, 40719581,\n",
       "        62847194, 92741864, 71583922, 48162736],\n",
       "       [48291537, 92746104, 13672947, 80519461, 39281745, 74058218,\n",
       "        15820363, 62417952, 29147384, 51796239],\n",
       "       [51796241, 29147386, 62417954, 15820365, 74058220, 39281747,\n",
       "        80519463, 13672949, 92746106, 48291538],\n",
       "       [62417955, 15820366, 74058221, 39281748, 80519464, 13672950,\n",
       "        92746107, 48291539, 51796242, 29147387]])"
      ]
     },
     "execution_count": 20,
     "metadata": {},
     "output_type": "execute_result"
    }
   ],
   "source": [
    "Salary\n"
   ]
  },
  {
   "cell_type": "code",
   "execution_count": 23,
   "id": "d1d51add-a297-42d6-a9bb-0cde49cf0883",
   "metadata": {},
   "outputs": [
    {
     "data": {
      "text/plain": [
       "array([48291537, 92746105, 13672948, 80519462, 39281746, 74058219,\n",
       "       15820364, 62417953, 29147385, 51796240])"
      ]
     },
     "execution_count": 23,
     "metadata": {},
     "output_type": "execute_result"
    }
   ],
   "source": [
    "Salary[0]"
   ]
  },
  {
   "cell_type": "code",
   "execution_count": 22,
   "id": "aa93e022-d4d3-47f4-97d4-809c6411b185",
   "metadata": {},
   "outputs": [
    {
     "data": {
      "text/plain": [
       "[<matplotlib.lines.Line2D at 0x1d4b97b1130>]"
      ]
     },
     "execution_count": 22,
     "metadata": {},
     "output_type": "execute_result"
    },
    {
     "data": {
      "image/png": "[encoded data removed]",
      "text/plain": [
       "<Figure size 640x480 with 1 Axes>"
      ]
     },
     "metadata": {},
     "output_type": "display_data"
    }
   ],
   "source": [
    "plt.plot(Salary[0])"
   ]
  },
  {
   "cell_type": "code",
   "execution_count": 26,
   "id": "7306918d-34a3-4050-89df-5ab329a8403f",
   "metadata": {},
   "outputs": [
    {
     "data": {
      "text/plain": [
       "[<matplotlib.lines.Line2D at 0x1d4b95a2210>]"
      ]
     },
     "execution_count": 26,
     "metadata": {},
     "output_type": "execute_result"
    },
    {
     "data": {
      "image/png": "[encoded data removed]",
      "text/plain": [
       "<Figure size 640x480 with 1 Axes>"
      ]
     },
     "metadata": {},
     "output_type": "display_data"
    }
   ],
   "source": [
    "plt.plot(Salary[0],c='b')\n"
   ]
  },
  {
   "cell_type": "code",
   "execution_count": 27,
   "id": "cdd3578c-f3c0-48ef-9187-ddbdeab3b86c",
   "metadata": {},
   "outputs": [
    {
     "data": {
      "text/plain": [
       "[<matplotlib.lines.Line2D at 0x1d4ba8d2b70>]"
      ]
     },
     "execution_count": 27,
     "metadata": {},
     "output_type": "execute_result"
    },
    {
     "data": {
      "image/png": "[encoded data removed]",
      "text/plain": [
       "<Figure size 640x480 with 1 Axes>"
      ]
     },
     "metadata": {},
     "output_type": "display_data"
    }
   ],
   "source": [
    "plt.plot(Salary[0],c='g')\n"
   ]
  },
  {
   "cell_type": "code",
   "execution_count": null,
   "id": "f24549b8-3448-4c83-bd23-18353190a5d3",
   "metadata": {},
   "outputs": [],
   "source": []
  },
  {
   "cell_type": "code",
   "execution_count": null,
   "id": "0db794a9-3156-482a-b777-11c24d13f491",
   "metadata": {},
   "outputs": [],
   "source": []
  },
  {
   "cell_type": "code",
   "execution_count": null,
   "id": "6cae9a62-3f75-4b9b-921d-ce0fe3c1a704",
   "metadata": {},
   "outputs": [],
   "source": []
  },
  {
   "cell_type": "code",
   "execution_count": null,
   "id": "948a0e2d-0bb5-4679-9f26-590231a5303d",
   "metadata": {},
   "outputs": [],
   "source": []
  },
  {
   "cell_type": "code",
   "execution_count": null,
   "id": "f180ee69-53bc-4fc3-8b32-58668631c7a8",
   "metadata": {},
   "outputs": [],
   "source": []
  },
  {
   "cell_type": "code",
   "execution_count": null,
   "id": "c11f56dd-21ce-4844-a304-44fb5e6ca18c",
   "metadata": {},
   "outputs": [],
   "source": []
  },
  {
   "cell_type": "code",
   "execution_count": null,
   "id": "99542c37-1709-4318-b0f4-bbdbfb56db65",
   "metadata": {},
   "outputs": [],
   "source": []
  },
  {
   "cell_type": "code",
   "execution_count": null,
   "id": "e0a3e169-e49b-4410-8a74-0e1cd000a751",
   "metadata": {},
   "outputs": [],
   "source": []
  }
 ],
 "metadata": {
  "kernelspec": {
   "display_name": "Python 3 (ipykernel)",
   "language": "python",
   "name": "python3"
  },
  "language_info": {
   "codemirror_mode": {
    "name": "ipython",
    "version": 3
   },
   "file_extension": ".py",
   "mimetype": "text/x-python",
   "name": "python",
   "nbconvert_exporter": "python",
   "pygments_lexer": "ipython3",
   "version": "3.12.7"
  }
 },
 "nbformat": 4,
 "nbformat_minor": 5
}
