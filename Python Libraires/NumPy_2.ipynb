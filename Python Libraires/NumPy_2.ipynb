{
 "cells": [
  {
   "cell_type": "markdown",
   "id": "d7e22f73-2c5b-447c-851e-c453d6523a73",
   "metadata": {},
   "source": [
    "# 1 MAY"
   ]
  },
  {
   "cell_type": "code",
   "execution_count": 1,
   "id": "04dde364-c1b7-4254-85be-6f02815aac0b",
   "metadata": {},
   "outputs": [],
   "source": [
    "import numpy as np"
   ]
  },
  {
   "cell_type": "code",
   "execution_count": 4,
   "id": "d5566b28-fe66-48f8-b0ea-a1460db40bbe",
   "metadata": {},
   "outputs": [],
   "source": [
    "\n",
    "b=np.random.randint(10,20,(5,4))"
   ]
  },
  {
   "cell_type": "code",
   "execution_count": 5,
   "id": "ce2b592b-f3b4-469d-b5dd-9a8f378ce3b2",
   "metadata": {},
   "outputs": [
    {
     "data": {
      "text/plain": [
       "array([[16, 15, 12, 13],\n",
       "       [10, 15, 10, 14],\n",
       "       [17, 18, 15, 17],\n",
       "       [10, 13, 14, 17],\n",
       "       [13, 16, 13, 17]])"
      ]
     },
     "execution_count": 5,
     "metadata": {},
     "output_type": "execute_result"
    }
   ],
   "source": [
    "b[:]\n"
   ]
  },
  {
   "cell_type": "code",
   "execution_count": 6,
   "id": "08bdd207-fdce-4baa-b715-68da111b60f2",
   "metadata": {},
   "outputs": [
    {
     "data": {
      "text/plain": [
       "array([[10, 15, 10, 14],\n",
       "       [17, 18, 15, 17]])"
      ]
     },
     "execution_count": 6,
     "metadata": {},
     "output_type": "execute_result"
    }
   ],
   "source": [
    "b[1:3]"
   ]
  },
  {
   "cell_type": "code",
   "execution_count": 7,
   "id": "4ab0c198-8858-4cdb-a98e-f6b0ce8c2fb9",
   "metadata": {},
   "outputs": [
    {
     "data": {
      "text/plain": [
       "10"
      ]
     },
     "execution_count": 7,
     "metadata": {},
     "output_type": "execute_result"
    }
   ],
   "source": [
    "b[1,2]"
   ]
  },
  {
   "cell_type": "code",
   "execution_count": 8,
   "id": "1436ba84-96e9-4416-997c-324c99e9f74a",
   "metadata": {},
   "outputs": [
    {
     "data": {
      "text/plain": [
       "14"
      ]
     },
     "execution_count": 8,
     "metadata": {},
     "output_type": "execute_result"
    }
   ],
   "source": [
    "b[1,-1]"
   ]
  },
  {
   "cell_type": "code",
   "execution_count": 9,
   "id": "5823b515-eb34-4076-ac5d-e91f43b93742",
   "metadata": {},
   "outputs": [
    {
     "data": {
      "text/plain": [
       "array([[17, 18, 15, 17]])"
      ]
     },
     "execution_count": 9,
     "metadata": {},
     "output_type": "execute_result"
    }
   ],
   "source": [
    "b[2:3]"
   ]
  },
  {
   "cell_type": "code",
   "execution_count": 10,
   "id": "2469b13a-57ef-4454-a39d-ba592b98e1e8",
   "metadata": {},
   "outputs": [
    {
     "data": {
      "text/plain": [
       "array([[16, 15, 12, 13],\n",
       "       [10, 15, 10, 14],\n",
       "       [17, 18, 15, 17]])"
      ]
     },
     "execution_count": 10,
     "metadata": {},
     "output_type": "execute_result"
    }
   ],
   "source": [
    "b[0:-2]"
   ]
  },
  {
   "cell_type": "code",
   "execution_count": 11,
   "id": "d3489e4d-01ec-4f46-96f5-e8fb51208fa4",
   "metadata": {},
   "outputs": [],
   "source": [
    "arr2=np.random.randint(0,100,(10,10))"
   ]
  },
  {
   "cell_type": "code",
   "execution_count": 12,
   "id": "68279f80-3c23-4f06-bc7e-266da8e85354",
   "metadata": {},
   "outputs": [
    {
     "data": {
      "text/plain": [
       "array([[32, 92, 87, 43, 26, 91, 17, 55, 80, 91],\n",
       "       [ 6,  6, 79, 47, 58, 12, 67, 53, 29, 38],\n",
       "       [77, 52,  5, 15, 30, 87, 13, 52, 11, 13],\n",
       "       [12, 36, 30, 39,  1, 57, 61, 54, 10, 93],\n",
       "       [28, 72,  3, 34, 84, 59, 89, 88, 14, 66],\n",
       "       [54, 25, 85, 50, 71, 80, 33, 87, 37, 79],\n",
       "       [65, 95, 71,  3, 20,  2, 27, 96,  4, 63],\n",
       "       [22, 67, 81, 51, 18, 93, 52,  7, 83, 71],\n",
       "       [49, 26, 74, 96, 73, 39, 78, 73, 59, 49],\n",
       "       [92, 35, 14, 33,  0, 44, 16, 24,  4, 34]])"
      ]
     },
     "execution_count": 12,
     "metadata": {},
     "output_type": "execute_result"
    }
   ],
   "source": [
    "arr2"
   ]
  },
  {
   "cell_type": "code",
   "execution_count": 13,
   "id": "d6842767-593c-4d0b-bf39-5db79072f822",
   "metadata": {},
   "outputs": [
    {
     "data": {
      "text/plain": [
       "array([[92, 35, 14, 33,  0, 44, 16, 24,  4, 34],\n",
       "       [49, 26, 74, 96, 73, 39, 78, 73, 59, 49],\n",
       "       [22, 67, 81, 51, 18, 93, 52,  7, 83, 71],\n",
       "       [65, 95, 71,  3, 20,  2, 27, 96,  4, 63],\n",
       "       [54, 25, 85, 50, 71, 80, 33, 87, 37, 79],\n",
       "       [28, 72,  3, 34, 84, 59, 89, 88, 14, 66],\n",
       "       [12, 36, 30, 39,  1, 57, 61, 54, 10, 93],\n",
       "       [77, 52,  5, 15, 30, 87, 13, 52, 11, 13],\n",
       "       [ 6,  6, 79, 47, 58, 12, 67, 53, 29, 38],\n",
       "       [32, 92, 87, 43, 26, 91, 17, 55, 80, 91]])"
      ]
     },
     "execution_count": 13,
     "metadata": {},
     "output_type": "execute_result"
    }
   ],
   "source": [
    "arr2[::-1]"
   ]
  },
  {
   "cell_type": "code",
   "execution_count": 14,
   "id": "f9719bf8-00f7-4d8a-8ea6-cec6d47135af",
   "metadata": {},
   "outputs": [
    {
     "data": {
      "text/plain": [
       "array([[32, 92, 87, 43, 26, 91, 17, 55, 80, 91],\n",
       "       [ 6,  6, 79, 47, 58, 12, 67, 53, 29, 38],\n",
       "       [77, 52,  5, 15, 30, 87, 13, 52, 11, 13],\n",
       "       [12, 36, 30, 39,  1, 57, 61, 54, 10, 93],\n",
       "       [28, 72,  3, 34, 84, 59, 89, 88, 14, 66],\n",
       "       [54, 25, 85, 50, 71, 80, 33, 87, 37, 79],\n",
       "       [65, 95, 71,  3, 20,  2, 27, 96,  4, 63]])"
      ]
     },
     "execution_count": 14,
     "metadata": {},
     "output_type": "execute_result"
    }
   ],
   "source": [
    "arr2[:-3]"
   ]
  },
  {
   "cell_type": "code",
   "execution_count": 15,
   "id": "6b69f72f-326a-4857-9946-db663285ad9c",
   "metadata": {},
   "outputs": [],
   "source": [
    "arr=np.arange(10,30,5)\n"
   ]
  },
  {
   "cell_type": "markdown",
   "id": "87b159d2-0a5b-46ea-afa9-48876410ac89",
   "metadata": {},
   "source": [
    "# Operation"
   ]
  },
  {
   "cell_type": "code",
   "execution_count": 18,
   "id": "85b0a788-32a8-4066-974a-4536ebab1f42",
   "metadata": {},
   "outputs": [
    {
     "data": {
      "text/plain": [
       "array([[10, 15],\n",
       "       [20, 25]])"
      ]
     },
     "execution_count": 18,
     "metadata": {},
     "output_type": "execute_result"
    }
   ],
   "source": [
    "arr.reshape(2,2)"
   ]
  },
  {
   "cell_type": "code",
   "execution_count": 17,
   "id": "aa635229-6d87-4bdb-b9e6-ef11b3910c26",
   "metadata": {},
   "outputs": [
    {
     "data": {
      "text/plain": [
       "array([10, 15, 20, 25])"
      ]
     },
     "execution_count": 17,
     "metadata": {},
     "output_type": "execute_result"
    }
   ],
   "source": [
    "arr"
   ]
  },
  {
   "cell_type": "code",
   "execution_count": 19,
   "id": "35fef13b-9006-498a-bcae-36da8ddea805",
   "metadata": {},
   "outputs": [
    {
     "data": {
      "text/plain": [
       "array([[10, 20],\n",
       "       [15, 25]])"
      ]
     },
     "execution_count": 19,
     "metadata": {},
     "output_type": "execute_result"
    }
   ],
   "source": [
    "arr.reshape(2,2,order='F')"
   ]
  },
  {
   "cell_type": "code",
   "execution_count": 20,
   "id": "0779587e-ac8a-4404-a78a-d0d165ce4a7a",
   "metadata": {},
   "outputs": [
    {
     "data": {
      "text/plain": [
       "array([[10, 15],\n",
       "       [20, 25]])"
      ]
     },
     "execution_count": 20,
     "metadata": {},
     "output_type": "execute_result"
    }
   ],
   "source": [
    "arr.reshape(2,2,order='C')"
   ]
  },
  {
   "cell_type": "code",
   "execution_count": 21,
   "id": "52833ddf-78c1-4b6d-a25a-c9528fffb47a",
   "metadata": {},
   "outputs": [
    {
     "data": {
      "text/plain": [
       "array([[10, 15],\n",
       "       [20, 25]])"
      ]
     },
     "execution_count": 21,
     "metadata": {},
     "output_type": "execute_result"
    }
   ],
   "source": [
    "arr.reshape(2,2,order='A')"
   ]
  },
  {
   "cell_type": "markdown",
   "id": "4a509746-f254-45dd-b2ee-ac9a6b2dc251",
   "metadata": {},
   "source": [
    "# Indexing"
   ]
  },
  {
   "cell_type": "code",
   "execution_count": 22,
   "id": "521ef41a-19b8-4577-b338-45f1a19dc963",
   "metadata": {},
   "outputs": [],
   "source": [
    "mat=np.arange(0,100).reshape(10,10)"
   ]
  },
  {
   "cell_type": "code",
   "execution_count": 23,
   "id": "5e5022f7-b3cb-46f4-b686-abf432964dc8",
   "metadata": {},
   "outputs": [
    {
     "data": {
      "text/plain": [
       "array([[ 0,  1,  2,  3,  4,  5,  6,  7,  8,  9],\n",
       "       [10, 11, 12, 13, 14, 15, 16, 17, 18, 19],\n",
       "       [20, 21, 22, 23, 24, 25, 26, 27, 28, 29],\n",
       "       [30, 31, 32, 33, 34, 35, 36, 37, 38, 39],\n",
       "       [40, 41, 42, 43, 44, 45, 46, 47, 48, 49],\n",
       "       [50, 51, 52, 53, 54, 55, 56, 57, 58, 59],\n",
       "       [60, 61, 62, 63, 64, 65, 66, 67, 68, 69],\n",
       "       [70, 71, 72, 73, 74, 75, 76, 77, 78, 79],\n",
       "       [80, 81, 82, 83, 84, 85, 86, 87, 88, 89],\n",
       "       [90, 91, 92, 93, 94, 95, 96, 97, 98, 99]])"
      ]
     },
     "execution_count": 23,
     "metadata": {},
     "output_type": "execute_result"
    }
   ],
   "source": [
    "mat"
   ]
  },
  {
   "cell_type": "code",
   "execution_count": 25,
   "id": "10fcbc8d-ecf3-42fd-8c2d-e66f11d9acae",
   "metadata": {},
   "outputs": [
    {
     "data": {
      "text/plain": [
       "45"
      ]
     },
     "execution_count": 25,
     "metadata": {},
     "output_type": "execute_result"
    }
   ],
   "source": [
    "mat[4,5]"
   ]
  },
  {
   "cell_type": "code",
   "execution_count": 26,
   "id": "42a279c6-abe7-41eb-a4dd-346b98701275",
   "metadata": {},
   "outputs": [
    {
     "data": {
      "text/plain": [
       "array([60, 61, 62, 63, 64, 65, 66, 67, 68, 69])"
      ]
     },
     "execution_count": 26,
     "metadata": {},
     "output_type": "execute_result"
    }
   ],
   "source": [
    "mat[6]"
   ]
  },
  {
   "cell_type": "code",
   "execution_count": 29,
   "id": "f476f8bc-65ec-4cd0-b242-e7a2ba5df5fd",
   "metadata": {},
   "outputs": [
    {
     "data": {
      "text/plain": [
       "array([[ 0,  1,  2,  3,  4,  5,  6,  7,  8,  9],\n",
       "       [10, 11, 12, 13, 14, 15, 16, 17, 18, 19],\n",
       "       [20, 21, 22, 23, 24, 25, 26, 27, 28, 29],\n",
       "       [30, 31, 32, 33, 34, 35, 36, 37, 38, 39],\n",
       "       [40, 41, 42, 43, 44, 45, 46, 47, 48, 49],\n",
       "       [50, 51, 52, 53, 54, 55, 56, 57, 58, 59]])"
      ]
     },
     "execution_count": 29,
     "metadata": {},
     "output_type": "execute_result"
    }
   ],
   "source": [
    "mat[:6]"
   ]
  },
  {
   "cell_type": "code",
   "execution_count": 28,
   "id": "c86b7fc5-6bde-471c-be74-76b069e4ad08",
   "metadata": {},
   "outputs": [
    {
     "data": {
      "text/plain": [
       "array([ 6, 16, 26, 36, 46, 56, 66, 76, 86, 96])"
      ]
     },
     "execution_count": 28,
     "metadata": {},
     "output_type": "execute_result"
    }
   ],
   "source": [
    "mat[:,6]"
   ]
  },
  {
   "cell_type": "code",
   "execution_count": 30,
   "id": "d4fb7c1c-65da-423b-b78d-f506276d1f27",
   "metadata": {},
   "outputs": [
    {
     "data": {
      "text/plain": [
       "array([[12, 13]])"
      ]
     },
     "execution_count": 30,
     "metadata": {},
     "output_type": "execute_result"
    }
   ],
   "source": [
    "mat[1:2,2:4]"
   ]
  },
  {
   "cell_type": "code",
   "execution_count": 32,
   "id": "a339e9a1-fca0-4aef-9d51-28121518c2bf",
   "metadata": {},
   "outputs": [
    {
     "data": {
      "text/plain": [
       "array([[23, 24],\n",
       "       [33, 34]])"
      ]
     },
     "execution_count": 32,
     "metadata": {},
     "output_type": "execute_result"
    }
   ],
   "source": [
    "mat[2:4,3:5]"
   ]
  },
  {
   "cell_type": "markdown",
   "id": "b4d7e38b-e102-4198-a146-5f2b02757f5c",
   "metadata": {},
   "source": [
    "# Masking"
   ]
  },
  {
   "cell_type": "code",
   "execution_count": 33,
   "id": "25aff6d2-2418-44cb-9cfe-0629e7d2bc17",
   "metadata": {},
   "outputs": [
    {
     "data": {
      "text/plain": [
       "array([[ 0,  1,  2,  3,  4,  5,  6,  7,  8,  9],\n",
       "       [10, 11, 12, 13, 14, 15, 16, 17, 18, 19],\n",
       "       [20, 21, 22, 23, 24, 25, 26, 27, 28, 29],\n",
       "       [30, 31, 32, 33, 34, 35, 36, 37, 38, 39],\n",
       "       [40, 41, 42, 43, 44, 45, 46, 47, 48, 49],\n",
       "       [50, 51, 52, 53, 54, 55, 56, 57, 58, 59],\n",
       "       [60, 61, 62, 63, 64, 65, 66, 67, 68, 69],\n",
       "       [70, 71, 72, 73, 74, 75, 76, 77, 78, 79],\n",
       "       [80, 81, 82, 83, 84, 85, 86, 87, 88, 89],\n",
       "       [90, 91, 92, 93, 94, 95, 96, 97, 98, 99]])"
      ]
     },
     "execution_count": 33,
     "metadata": {},
     "output_type": "execute_result"
    }
   ],
   "source": [
    "mat # we also called as filter"
   ]
  },
  {
   "cell_type": "code",
   "execution_count": 34,
   "id": "881935f4-c89f-4532-a160-164c4532eb7e",
   "metadata": {},
   "outputs": [
    {
     "data": {
      "text/plain": [
       "2736339003952"
      ]
     },
     "execution_count": 34,
     "metadata": {},
     "output_type": "execute_result"
    }
   ],
   "source": [
    "id(mat)"
   ]
  },
  {
   "cell_type": "code",
   "execution_count": 35,
   "id": "ab701a22-c0bd-47ad-bf6c-b3ebd7775c3a",
   "metadata": {},
   "outputs": [
    {
     "data": {
      "text/plain": [
       "array([51, 52, 53, 54, 55, 56, 57, 58, 59, 60, 61, 62, 63, 64, 65, 66, 67,\n",
       "       68, 69, 70, 71, 72, 73, 74, 75, 76, 77, 78, 79, 80, 81, 82, 83, 84,\n",
       "       85, 86, 87, 88, 89, 90, 91, 92, 93, 94, 95, 96, 97, 98, 99])"
      ]
     },
     "execution_count": 35,
     "metadata": {},
     "output_type": "execute_result"
    }
   ],
   "source": [
    "mat[mat>50]"
   ]
  },
  {
   "cell_type": "code",
   "execution_count": 38,
   "id": "932acb89-9bb2-4676-920a-d3f379964c88",
   "metadata": {},
   "outputs": [
    {
     "data": {
      "text/plain": [
       "array([50])"
      ]
     },
     "execution_count": 38,
     "metadata": {},
     "output_type": "execute_result"
    }
   ],
   "source": [
    "mat[mat==50]"
   ]
  },
  {
   "cell_type": "code",
   "execution_count": 39,
   "id": "d0a9b2a9-db2d-4d2d-be48-b3cf9f158fdf",
   "metadata": {},
   "outputs": [
    {
     "data": {
      "text/plain": [
       "array([ 0,  1,  2,  3,  4,  5,  6,  7,  8,  9, 10, 11, 12, 13, 14, 15, 16,\n",
       "       17, 18, 19, 20, 21, 22, 23, 24, 25, 26, 27, 28, 29, 30, 31, 32, 33,\n",
       "       34, 35, 36, 37, 38, 39, 40, 41, 42, 43, 44, 45, 46, 47, 48, 49, 51,\n",
       "       52, 53, 54, 55, 56, 57, 58, 59, 60, 61, 62, 63, 64, 65, 66, 67, 68,\n",
       "       69, 70, 71, 72, 73, 74, 75, 76, 77, 78, 79, 80, 81, 82, 83, 84, 85,\n",
       "       86, 87, 88, 89, 90, 91, 92, 93, 94, 95, 96, 97, 98, 99])"
      ]
     },
     "execution_count": 39,
     "metadata": {},
     "output_type": "execute_result"
    }
   ],
   "source": [
    "mat[mat!=50]"
   ]
  },
  {
   "cell_type": "code",
   "execution_count": null,
   "id": "aefd6639-0df6-4fdc-a5ac-0a3db67a1a2a",
   "metadata": {},
   "outputs": [],
   "source": []
  },
  {
   "cell_type": "code",
   "execution_count": null,
   "id": "22f511a5-d571-4d58-a738-0429ec95cdf5",
   "metadata": {},
   "outputs": [],
   "source": []
  },
  {
   "cell_type": "code",
   "execution_count": null,
   "id": "e126b273-a6f6-4aad-910e-97696a8e2876",
   "metadata": {},
   "outputs": [],
   "source": []
  },
  {
   "cell_type": "code",
   "execution_count": null,
   "id": "5f94f8c6-5149-4658-bb06-52b2c1e8f182",
   "metadata": {},
   "outputs": [],
   "source": []
  }
 ],
 "metadata": {
  "kernelspec": {
   "display_name": "Python 3 (ipykernel)",
   "language": "python",
   "name": "python3"
  },
  "language_info": {
   "codemirror_mode": {
    "name": "ipython",
    "version": 3
   },
   "file_extension": ".py",
   "mimetype": "text/x-python",
   "name": "python",
   "nbconvert_exporter": "python",
   "pygments_lexer": "ipython3",
   "version": "3.12.7"
  }
 },
 "nbformat": 4,
 "nbformat_minor": 5
}
