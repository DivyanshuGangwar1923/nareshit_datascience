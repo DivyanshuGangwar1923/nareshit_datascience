{
 "cells": [
  {
   "cell_type": "markdown",
   "id": "32a178b1-4abd-4e0a-a349-e39ff27f1f05",
   "metadata": {},
   "source": [
    "# 22 April"
   ]
  },
  {
   "cell_type": "code",
   "execution_count": 1,
   "id": "0561d801-98b7-4526-b6aa-0eb8d4c3d6cf",
   "metadata": {},
   "outputs": [],
   "source": [
    "l=[100,20,30,40,50,60,200]\n",
    "l1=l.copy()"
   ]
  },
  {
   "cell_type": "code",
   "execution_count": 2,
   "id": "b8365646-3951-4b26-aa15-067964cf3ba9",
   "metadata": {},
   "outputs": [],
   "source": [
    "l1.append('nit')\n",
    "l1.append(1+2j)"
   ]
  },
  {
   "cell_type": "code",
   "execution_count": 3,
   "id": "1abb8f4f-1ac6-4e53-aafd-584ee89bac60",
   "metadata": {},
   "outputs": [
    {
     "data": {
      "text/plain": [
       "[100, 20, 30, 40, 50, 60, 200, 'nit', (1+2j)]"
      ]
     },
     "execution_count": 3,
     "metadata": {},
     "output_type": "execute_result"
    }
   ],
   "source": [
    "l1"
   ]
  },
  {
   "cell_type": "code",
   "execution_count": 4,
   "id": "3c7c5493-575f-47a3-b309-2c0ea7ad9d93",
   "metadata": {},
   "outputs": [
    {
     "ename": "TypeError",
     "evalue": "'int' object is not subscriptable",
     "output_type": "error",
     "traceback": [
      "\u001b[1;31m---------------------------------------------------------------------------\u001b[0m",
      "\u001b[1;31mTypeError\u001b[0m                                 Traceback (most recent call last)",
      "Cell \u001b[1;32mIn[4], line 1\u001b[0m\n\u001b[1;32m----> 1\u001b[0m l1[\u001b[38;5;241m0\u001b[39m][\u001b[38;5;241m0\u001b[39m]\n",
      "\u001b[1;31mTypeError\u001b[0m: 'int' object is not subscriptable"
     ]
    }
   ],
   "source": [
    "l1[0][0]\n"
   ]
  },
  {
   "cell_type": "code",
   "execution_count": 5,
   "id": "a3c33984-b323-48ae-a35f-8b04edeeb1a4",
   "metadata": {},
   "outputs": [],
   "source": [
    "l1.remove(20)"
   ]
  },
  {
   "cell_type": "code",
   "execution_count": 6,
   "id": "4b1a64e8-666a-4393-92be-434721770b47",
   "metadata": {},
   "outputs": [
    {
     "data": {
      "text/plain": [
       "[100, 30, 40, 50, 60, 200, 'nit', (1+2j)]"
      ]
     },
     "execution_count": 6,
     "metadata": {},
     "output_type": "execute_result"
    }
   ],
   "source": [
    "l1"
   ]
  },
  {
   "cell_type": "code",
   "execution_count": 7,
   "id": "626de5df-10a4-4093-a0bf-8852157f92d7",
   "metadata": {},
   "outputs": [
    {
     "data": {
      "text/plain": [
       "[10, 20, 25, 30, 40]"
      ]
     },
     "execution_count": 7,
     "metadata": {},
     "output_type": "execute_result"
    }
   ],
   "source": [
    "l=[10,20,30,40]\n",
    "l.insert(2,25)\n",
    "l"
   ]
  },
  {
   "cell_type": "code",
   "execution_count": 8,
   "id": "2e094d24-d15a-4eea-80d3-7dd16b1b128f",
   "metadata": {},
   "outputs": [
    {
     "data": {
      "text/plain": [
       "0"
      ]
     },
     "execution_count": 8,
     "metadata": {},
     "output_type": "execute_result"
    }
   ],
   "source": [
    "l.index(10)"
   ]
  },
  {
   "cell_type": "code",
   "execution_count": 9,
   "id": "2b7c46b9-d743-4689-829d-b2a824af74f4",
   "metadata": {},
   "outputs": [
    {
     "data": {
      "text/plain": [
       "40"
      ]
     },
     "execution_count": 9,
     "metadata": {},
     "output_type": "execute_result"
    }
   ],
   "source": [
    "l.pop()\n"
   ]
  },
  {
   "cell_type": "code",
   "execution_count": 10,
   "id": "e824a148-6ec5-45ee-849a-af9175781254",
   "metadata": {},
   "outputs": [
    {
     "data": {
      "text/plain": [
       "[10, 20, 25, 30]"
      ]
     },
     "execution_count": 10,
     "metadata": {},
     "output_type": "execute_result"
    }
   ],
   "source": [
    "l"
   ]
  },
  {
   "cell_type": "code",
   "execution_count": 1,
   "id": "ac521e34-a633-4252-8986-4b8f467e3b65",
   "metadata": {},
   "outputs": [
    {
     "ename": "NameError",
     "evalue": "name 'l' is not defined",
     "output_type": "error",
     "traceback": [
      "\u001b[1;31m---------------------------------------------------------------------------\u001b[0m",
      "\u001b[1;31mNameError\u001b[0m                                 Traceback (most recent call last)",
      "Cell \u001b[1;32mIn[1], line 1\u001b[0m\n\u001b[1;32m----> 1\u001b[0m l\u001b[38;5;241m.\u001b[39mextend(l1)\n",
      "\u001b[1;31mNameError\u001b[0m: name 'l' is not defined"
     ]
    }
   ],
   "source": [
    "l.extend(l1)"
   ]
  },
  {
   "cell_type": "code",
   "execution_count": 2,
   "id": "743c305a-a3f0-40fe-a817-8fa0a63a1ce8",
   "metadata": {},
   "outputs": [
    {
     "ename": "NameError",
     "evalue": "name 'l' is not defined",
     "output_type": "error",
     "traceback": [
      "\u001b[1;31m---------------------------------------------------------------------------\u001b[0m",
      "\u001b[1;31mNameError\u001b[0m                                 Traceback (most recent call last)",
      "Cell \u001b[1;32mIn[2], line 1\u001b[0m\n\u001b[1;32m----> 1\u001b[0m l\n",
      "\u001b[1;31mNameError\u001b[0m: name 'l' is not defined"
     ]
    }
   ],
   "source": [
    "l"
   ]
  },
  {
   "cell_type": "code",
   "execution_count": 3,
   "id": "b0c018a0-b0eb-4ac4-8fa2-463edf5cb492",
   "metadata": {},
   "outputs": [],
   "source": [
    "l=[10,20,30,40]\n",
    "l1=[50,60,'nit',2.2]\n",
    "l.extend(l1)"
   ]
  },
  {
   "cell_type": "code",
   "execution_count": 4,
   "id": "7e9f2c63-c907-46ff-88df-f0b1a1d8db98",
   "metadata": {},
   "outputs": [
    {
     "data": {
      "text/plain": [
       "[10, 20, 30, 40, 50, 60, 'nit', 2.2]"
      ]
     },
     "execution_count": 4,
     "metadata": {},
     "output_type": "execute_result"
    }
   ],
   "source": [
    "l"
   ]
  },
  {
   "cell_type": "code",
   "execution_count": 5,
   "id": "c99f068d-38bd-43ac-a9c2-db7ffc2fc9fb",
   "metadata": {},
   "outputs": [],
   "source": [
    "l.reverse()"
   ]
  },
  {
   "cell_type": "code",
   "execution_count": 6,
   "id": "9479ee6f-e02b-44ee-86ff-ca385f2e8944",
   "metadata": {},
   "outputs": [
    {
     "data": {
      "text/plain": [
       "[2.2, 'nit', 60, 50, 40, 30, 20, 10]"
      ]
     },
     "execution_count": 6,
     "metadata": {},
     "output_type": "execute_result"
    }
   ],
   "source": [
    "l"
   ]
  },
  {
   "cell_type": "code",
   "execution_count": 7,
   "id": "76aeeadb-ad83-4563-bcf0-7083864df99b",
   "metadata": {},
   "outputs": [
    {
     "data": {
      "text/plain": [
       "[3, 7, 10, 1, 20]"
      ]
     },
     "execution_count": 7,
     "metadata": {},
     "output_type": "execute_result"
    }
   ],
   "source": [
    "l9=[3,7,10,1,20]\n",
    "l9"
   ]
  },
  {
   "cell_type": "code",
   "execution_count": 8,
   "id": "93e01960-e589-488e-8ac5-6ed7cd2edce7",
   "metadata": {},
   "outputs": [],
   "source": [
    "l9.sort()"
   ]
  },
  {
   "cell_type": "code",
   "execution_count": 9,
   "id": "bc189481-4a11-4dd5-b713-01bf4280f1f1",
   "metadata": {},
   "outputs": [
    {
     "data": {
      "text/plain": [
       "[1, 3, 7, 10, 20]"
      ]
     },
     "execution_count": 9,
     "metadata": {},
     "output_type": "execute_result"
    }
   ],
   "source": [
    "l9"
   ]
  },
  {
   "cell_type": "code",
   "execution_count": 11,
   "id": "6ac69c27-f33b-4b28-adb2-25d99a689bef",
   "metadata": {},
   "outputs": [
    {
     "data": {
      "text/plain": [
       "[20, 10, 7, 3, 1]"
      ]
     },
     "execution_count": 11,
     "metadata": {},
     "output_type": "execute_result"
    }
   ],
   "source": [
    "l9.sort(reverse=True)\n",
    "l9"
   ]
  },
  {
   "cell_type": "code",
   "execution_count": null,
   "id": "4f0664c9-ff82-454f-9cb6-e903a307d822",
   "metadata": {},
   "outputs": [],
   "source": []
  }
 ],
 "metadata": {
  "kernelspec": {
   "display_name": "Python 3 (ipykernel)",
   "language": "python",
   "name": "python3"
  },
  "language_info": {
   "codemirror_mode": {
    "name": "ipython",
    "version": 3
   },
   "file_extension": ".py",
   "mimetype": "text/x-python",
   "name": "python",
   "nbconvert_exporter": "python",
   "pygments_lexer": "ipython3",
   "version": "3.12.7"
  }
 },
 "nbformat": 4,
 "nbformat_minor": 5
}
