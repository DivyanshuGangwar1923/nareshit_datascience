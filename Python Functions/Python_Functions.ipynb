{
 "cells": [
  {
   "cell_type": "markdown",
   "id": "59686c61-67f8-4a99-9c8c-1adcc25d0fbb",
   "metadata": {},
   "source": [
    "# Functions"
   ]
  },
  {
   "cell_type": "code",
   "execution_count": 1,
   "id": "7c7a05aa-23ec-4a9b-81f8-758b17bc5352",
   "metadata": {},
   "outputs": [],
   "source": [
    "def greet(): # define the function here \n",
    "    print('Good Evening') # print the statement"
   ]
  },
  {
   "cell_type": "code",
   "execution_count": 3,
   "id": "a6021ec1-d8cc-4d27-a9b0-b2b84c82d07a",
   "metadata": {},
   "outputs": [
    {
     "name": "stdout",
     "output_type": "stream",
     "text": [
      "Good Evening\n"
     ]
    }
   ],
   "source": [
    "greet() # Calling the function"
   ]
  },
  {
   "cell_type": "code",
   "execution_count": 4,
   "id": "62262d46-f826-4577-aec4-911f46c04764",
   "metadata": {},
   "outputs": [
    {
     "name": "stdout",
     "output_type": "stream",
     "text": [
      "Good Evening\n",
      "Good Evening\n",
      "Good Evening\n"
     ]
    }
   ],
   "source": [
    "greet()\n",
    "greet()\n",
    "greet()"
   ]
  },
  {
   "cell_type": "code",
   "execution_count": 7,
   "id": "cab7c9be-2ed3-4831-b140-3f5cb8be10c5",
   "metadata": {},
   "outputs": [
    {
     "ename": "TypeError",
     "evalue": "add() takes 1 positional argument but 2 were given",
     "output_type": "error",
     "traceback": [
      "\u001b[1;31m---------------------------------------------------------------------------\u001b[0m",
      "\u001b[1;31mTypeError\u001b[0m                                 Traceback (most recent call last)",
      "Cell \u001b[1;32mIn[7], line 4\u001b[0m\n\u001b[0;32m      2\u001b[0m     c\u001b[38;5;241m=\u001b[39mx\u001b[38;5;241m+\u001b[39my\n\u001b[0;32m      3\u001b[0m     \u001b[38;5;28mprint\u001b[39m(c)\n\u001b[1;32m----> 4\u001b[0m add(\u001b[38;5;241m5\u001b[39m,\u001b[38;5;241m6\u001b[39m)\n",
      "\u001b[1;31mTypeError\u001b[0m: add() takes 1 positional argument but 2 were given"
     ]
    }
   ],
   "source": [
    "def add(x):\n",
    "    c=x+y\n",
    "    print(c)\n",
    "add(5,6)\n"
   ]
  },
  {
   "cell_type": "code",
   "execution_count": 8,
   "id": "7c5b3f96-3267-494d-b138-907cf4d369a6",
   "metadata": {},
   "outputs": [
    {
     "ename": "TypeError",
     "evalue": "add() missing 1 required positional argument: 'z'",
     "output_type": "error",
     "traceback": [
      "\u001b[1;31m---------------------------------------------------------------------------\u001b[0m",
      "\u001b[1;31mTypeError\u001b[0m                                 Traceback (most recent call last)",
      "Cell \u001b[1;32mIn[8], line 4\u001b[0m\n\u001b[0;32m      2\u001b[0m     c\u001b[38;5;241m=\u001b[39mx\u001b[38;5;241m+\u001b[39my\n\u001b[0;32m      3\u001b[0m     \u001b[38;5;28mprint\u001b[39m(c)\n\u001b[1;32m----> 4\u001b[0m add(\u001b[38;5;241m5\u001b[39m,\u001b[38;5;241m6\u001b[39m)\n",
      "\u001b[1;31mTypeError\u001b[0m: add() missing 1 required positional argument: 'z'"
     ]
    }
   ],
   "source": [
    "def add(x,y,z):\n",
    "    c=x+y\n",
    "    print(c)\n",
    "add(5,6)\n"
   ]
  },
  {
   "cell_type": "code",
   "execution_count": 6,
   "id": "5695a6d6-4f7a-40b4-a76a-a87fc95a155d",
   "metadata": {},
   "outputs": [
    {
     "name": "stdout",
     "output_type": "stream",
     "text": [
      "11\n",
      "12.4\n",
      "addmee\n"
     ]
    }
   ],
   "source": [
    "def add(x,y):\n",
    "    c=x+y\n",
    "    print(c)\n",
    "add(5,6)\n",
    "add(5.5,6.9)\n",
    "add('add','mee')"
   ]
  },
  {
   "cell_type": "code",
   "execution_count": 9,
   "id": "6f3dbb30-8e16-49b0-8c36-16b11f2f62e3",
   "metadata": {},
   "outputs": [
    {
     "name": "stdout",
     "output_type": "stream",
     "text": [
      "Good Evening\n",
      "11\n",
      "14\n"
     ]
    }
   ],
   "source": [
    "def greet():\n",
    "    print('Good Evening')\n",
    "\n",
    "def add(x,y):\n",
    "    c=x+y\n",
    "    print(c)\n",
    "    \n",
    "def sub(x,y):\n",
    "    c=y-x\n",
    "    print(c)\n",
    "\n",
    "greet()\n",
    "add(5,6)\n",
    "sub(6,20)"
   ]
  },
  {
   "cell_type": "code",
   "execution_count": 13,
   "id": "37fafc49-29eb-44e3-a9e5-135ddb60ceb7",
   "metadata": {},
   "outputs": [
    {
     "data": {
      "text/plain": [
       "11"
      ]
     },
     "execution_count": 13,
     "metadata": {},
     "output_type": "execute_result"
    }
   ],
   "source": [
    "def add(x,y):\n",
    "    c=x+y\n",
    "    return c\n",
    "\n",
    "add(5,6)\n",
    "    "
   ]
  },
  {
   "cell_type": "code",
   "execution_count": 15,
   "id": "2a2011c2-0381-4465-aabc-85690c432250",
   "metadata": {},
   "outputs": [
    {
     "name": "stdout",
     "output_type": "stream",
     "text": [
      "30\n",
      "10\n"
     ]
    }
   ],
   "source": [
    "def add(x,y): #int\n",
    "    c=x+y\n",
    "    return c\n",
    "    \n",
    "def sub(x,y): #int\n",
    "    d=x-y\n",
    "    return d\n",
    "\n",
    "print(add(20,10))\n",
    "print(sub(20,10))"
   ]
  },
  {
   "cell_type": "code",
   "execution_count": 17,
   "id": "cb7e0f66-eab9-45ce-b4da-8a3ef8874946",
   "metadata": {},
   "outputs": [
    {
     "name": "stdout",
     "output_type": "stream",
     "text": [
      "<class 'tuple'>\n"
     ]
    }
   ],
   "source": [
    "def add_sub(x,y): #tuple\n",
    "    d=x-y\n",
    "    c=x+y\n",
    "    return c,d\n",
    "result=add_sub(4,5)\n",
    "print(type(result))"
   ]
  },
  {
   "cell_type": "code",
   "execution_count": 19,
   "id": "9f40c04a-5cb4-4f9a-a0ae-ec9cb41cbcde",
   "metadata": {},
   "outputs": [
    {
     "name": "stdout",
     "output_type": "stream",
     "text": [
      "9\n",
      "-1\n",
      "<class 'int'>\n",
      "<class 'int'>\n"
     ]
    }
   ],
   "source": [
    "def add_sub(x,y): #int\n",
    "    d=x-y\n",
    "    c=x+y\n",
    "    return c,d\n",
    "result,result2=add_sub(4,5)\n",
    "print(result)\n",
    "print(result2)\n",
    "print(type(result))\n",
    "print(type(result))"
   ]
  },
  {
   "cell_type": "markdown",
   "id": "15b38fd4-f70b-4fa6-ad10-af969e39d9fb",
   "metadata": {},
   "source": [
    "# Function Arguments"
   ]
  },
  {
   "cell_type": "code",
   "execution_count": 21,
   "id": "a7a41939-0183-4401-bf79-57ef55b31e7c",
   "metadata": {},
   "outputs": [
    {
     "name": "stdout",
     "output_type": "stream",
     "text": [
      "8\n"
     ]
    }
   ],
   "source": [
    "def update():\n",
    "    x=8\n",
    "    print(x)\n",
    "\n",
    "update()"
   ]
  },
  {
   "cell_type": "code",
   "execution_count": 24,
   "id": "d0120520-bb1f-4b1a-8ca2-aef786927c77",
   "metadata": {},
   "outputs": [
    {
     "data": {
      "text/plain": [
       "8"
      ]
     },
     "execution_count": 24,
     "metadata": {},
     "output_type": "execute_result"
    }
   ],
   "source": [
    "def update(x):\n",
    "    x=8\n",
    "    return x\n",
    "\n",
    "a=10\n",
    "update(a)\n"
   ]
  },
  {
   "cell_type": "code",
   "execution_count": 23,
   "id": "1ecf0b87-218d-42e4-9d06-2abda82b7cb4",
   "metadata": {},
   "outputs": [
    {
     "name": "stdout",
     "output_type": "stream",
     "text": [
      "10\n"
     ]
    }
   ],
   "source": [
    "def update(x):\n",
    "    x=8\n",
    "    return x\n",
    "\n",
    "a=10\n",
    "update(a)\n",
    "print(a)"
   ]
  },
  {
   "cell_type": "code",
   "execution_count": null,
   "id": "21ef99b6-f78a-448f-b952-83248cc23e8d",
   "metadata": {},
   "outputs": [],
   "source": [
    "# function has 2 main concept\n",
    "# function without argument -- not required any thing\n",
    "# function with argument-- divide into 2 part\n",
    "    # formal argument\n",
    "    # actual argument"
   ]
  },
  {
   "cell_type": "code",
   "execution_count": 25,
   "id": "de2f1370-52f2-4a77-ab3d-03be4c53070c",
   "metadata": {},
   "outputs": [
    {
     "data": {
      "text/plain": [
       "9"
      ]
     },
     "execution_count": 25,
     "metadata": {},
     "output_type": "execute_result"
    }
   ],
   "source": [
    "def add(x,y): #x,y are formal argument\n",
    "    c=x+y\n",
    "    return c\n",
    "\n",
    "add(4,5) # 4,5 are actual argument"
   ]
  },
  {
   "cell_type": "markdown",
   "id": "a4acf353-3034-4a27-a8bf-f7c3b84e53c2",
   "metadata": {},
   "source": [
    "# Actual Argument"
   ]
  },
  {
   "cell_type": "code",
   "execution_count": 26,
   "id": "4a36b630-75e9-4275-8453-3438ae26b9a7",
   "metadata": {},
   "outputs": [],
   "source": [
    "# Positional argument"
   ]
  },
  {
   "cell_type": "code",
   "execution_count": 27,
   "id": "233e5171-d684-4897-b352-2e8b8ddc1ebd",
   "metadata": {},
   "outputs": [],
   "source": [
    "# Key word argument"
   ]
  },
  {
   "cell_type": "code",
   "execution_count": 28,
   "id": "3cc52269-8d63-45f9-9a33-cb150ad97dcf",
   "metadata": {},
   "outputs": [
    {
     "name": "stdout",
     "output_type": "stream",
     "text": [
      "22\n"
     ]
    },
    {
     "ename": "TypeError",
     "evalue": "can only concatenate str (not \"int\") to str",
     "output_type": "error",
     "traceback": [
      "\u001b[1;31m---------------------------------------------------------------------------\u001b[0m",
      "\u001b[1;31mTypeError\u001b[0m                                 Traceback (most recent call last)",
      "Cell \u001b[1;32mIn[28], line 5\u001b[0m\n\u001b[0;32m      2\u001b[0m     \u001b[38;5;28mprint\u001b[39m (name)\n\u001b[0;32m      3\u001b[0m     \u001b[38;5;28mprint\u001b[39m(age\u001b[38;5;241m+\u001b[39m\u001b[38;5;241m1\u001b[39m)\n\u001b[1;32m----> 5\u001b[0m person(\u001b[38;5;241m22\u001b[39m,\u001b[38;5;124m'\u001b[39m\u001b[38;5;124mname\u001b[39m\u001b[38;5;124m'\u001b[39m)\n",
      "Cell \u001b[1;32mIn[28], line 3\u001b[0m, in \u001b[0;36mperson\u001b[1;34m(name, age)\u001b[0m\n\u001b[0;32m      1\u001b[0m \u001b[38;5;28;01mdef\u001b[39;00m \u001b[38;5;21mperson\u001b[39m(name,age):\n\u001b[0;32m      2\u001b[0m     \u001b[38;5;28mprint\u001b[39m (name)\n\u001b[1;32m----> 3\u001b[0m     \u001b[38;5;28mprint\u001b[39m(age\u001b[38;5;241m+\u001b[39m\u001b[38;5;241m1\u001b[39m)\n",
      "\u001b[1;31mTypeError\u001b[0m: can only concatenate str (not \"int\") to str"
     ]
    }
   ],
   "source": [
    "def person(name,age):\n",
    "    print (name)\n",
    "    print(age+1)\n",
    "\n",
    "person(22,'name')"
   ]
  },
  {
   "cell_type": "code",
   "execution_count": 29,
   "id": "9728554b-0f54-4726-97fa-3606b5425f49",
   "metadata": {},
   "outputs": [
    {
     "name": "stdout",
     "output_type": "stream",
     "text": [
      "name\n",
      "23\n"
     ]
    }
   ],
   "source": [
    "def person(name,age): # Keyword Argument\n",
    "    print (name)\n",
    "    print(age+1)\n",
    "\n",
    "person(age=22,name='name') "
   ]
  },
  {
   "cell_type": "code",
   "execution_count": 30,
   "id": "d965e5f3-4cf3-4781-ac29-36b1de86579f",
   "metadata": {},
   "outputs": [
    {
     "ename": "TypeError",
     "evalue": "person() missing 1 required positional argument: 'salary'",
     "output_type": "error",
     "traceback": [
      "\u001b[1;31m---------------------------------------------------------------------------\u001b[0m",
      "\u001b[1;31mTypeError\u001b[0m                                 Traceback (most recent call last)",
      "Cell \u001b[1;32mIn[30], line 6\u001b[0m\n\u001b[0;32m      3\u001b[0m     \u001b[38;5;28mprint\u001b[39m(age\u001b[38;5;241m+\u001b[39m\u001b[38;5;241m1\u001b[39m)\n\u001b[0;32m      4\u001b[0m     \u001b[38;5;28mprint\u001b[39m(\u001b[38;5;124m'\u001b[39m\u001b[38;5;124mno job\u001b[39m\u001b[38;5;124m'\u001b[39m)\n\u001b[1;32m----> 6\u001b[0m person(age\u001b[38;5;241m=\u001b[39m\u001b[38;5;241m22\u001b[39m,name\u001b[38;5;241m=\u001b[39m\u001b[38;5;124m'\u001b[39m\u001b[38;5;124mname\u001b[39m\u001b[38;5;124m'\u001b[39m)\n",
      "\u001b[1;31mTypeError\u001b[0m: person() missing 1 required positional argument: 'salary'"
     ]
    }
   ],
   "source": [
    "def person(name,age,salary): # Positional Argument\n",
    "    print (name)\n",
    "    print(age+1)\n",
    "    print('no job')\n",
    "    \n",
    "person(age=22,name='name') "
   ]
  },
  {
   "cell_type": "code",
   "execution_count": 31,
   "id": "c9dfb6aa-8cc6-4fa7-8231-926924291379",
   "metadata": {},
   "outputs": [
    {
     "ename": "SyntaxError",
     "evalue": "positional argument follows keyword argument (3837506855.py, line 6)",
     "output_type": "error",
     "traceback": [
      "\u001b[1;36m  Cell \u001b[1;32mIn[31], line 6\u001b[1;36m\u001b[0m\n\u001b[1;33m    person(age=22,name='name',1000)\u001b[0m\n\u001b[1;37m                                  ^\u001b[0m\n\u001b[1;31mSyntaxError\u001b[0m\u001b[1;31m:\u001b[0m positional argument follows keyword argument\n"
     ]
    }
   ],
   "source": [
    "def person(name,age,salary): # Positional Argument\n",
    "    print (name)\n",
    "    print(age+1)\n",
    "    print('no job')\n",
    "    \n",
    "person(age=22,name='name',1000) "
   ]
  },
  {
   "cell_type": "code",
   "execution_count": 32,
   "id": "c87165b4-f19f-43e1-89d3-f94cc10e4063",
   "metadata": {},
   "outputs": [
    {
     "name": "stdout",
     "output_type": "stream",
     "text": [
      "name\n",
      "23\n",
      "no job\n"
     ]
    }
   ],
   "source": [
    "def person(name,age,salary): # Positional Argument\n",
    "    print (name)\n",
    "    print(age+1)\n",
    "    print('no job')\n",
    "    \n",
    "person(age=22,name='name',salary=1000) "
   ]
  },
  {
   "cell_type": "code",
   "execution_count": 33,
   "id": "9505fe48-62ac-43d2-9a59-44dbfa60eac0",
   "metadata": {},
   "outputs": [],
   "source": [
    "# Default Argument"
   ]
  },
  {
   "cell_type": "code",
   "execution_count": 34,
   "id": "cda6229a-b0f0-406b-ae4d-67b4d30ebb0d",
   "metadata": {},
   "outputs": [
    {
     "ename": "TypeError",
     "evalue": "person() missing 1 required positional argument: 'age'",
     "output_type": "error",
     "traceback": [
      "\u001b[1;31m---------------------------------------------------------------------------\u001b[0m",
      "\u001b[1;31mTypeError\u001b[0m                                 Traceback (most recent call last)",
      "Cell \u001b[1;32mIn[34], line 5\u001b[0m\n\u001b[0;32m      2\u001b[0m     \u001b[38;5;28mprint\u001b[39m (name)\n\u001b[0;32m      3\u001b[0m     \u001b[38;5;28mprint\u001b[39m(age)\n\u001b[1;32m----> 5\u001b[0m person(\u001b[38;5;124m'\u001b[39m\u001b[38;5;124mname\u001b[39m\u001b[38;5;124m'\u001b[39m)\n",
      "\u001b[1;31mTypeError\u001b[0m: person() missing 1 required positional argument: 'age'"
     ]
    }
   ],
   "source": [
    "def person(name,age):\n",
    "    print (name)\n",
    "    print(age)\n",
    "\n",
    "person('name')"
   ]
  },
  {
   "cell_type": "code",
   "execution_count": 36,
   "id": "961f0f28-c9e9-4f6d-81bc-bff9819b5e60",
   "metadata": {},
   "outputs": [
    {
     "name": "stdout",
     "output_type": "stream",
     "text": [
      "name\n",
      "18\n"
     ]
    }
   ],
   "source": [
    "def person(name,age=18):  # default argument\n",
    "    print (name)\n",
    "    print(age)\n",
    "\n",
    "person('name',age)"
   ]
  },
  {
   "cell_type": "code",
   "execution_count": 37,
   "id": "b4c62b9a-5eed-42ca-970f-2490826cb191",
   "metadata": {},
   "outputs": [
    {
     "name": "stdout",
     "output_type": "stream",
     "text": [
      "name\n",
      "40\n"
     ]
    }
   ],
   "source": [
    "def person(name,age=18):  # default argument\n",
    "    print (name)\n",
    "    print(age)\n",
    "\n",
    "person('name',age=40)"
   ]
  },
  {
   "cell_type": "code",
   "execution_count": null,
   "id": "54a23529-8a20-4b7a-bf0f-300d23e11692",
   "metadata": {},
   "outputs": [],
   "source": []
  },
  {
   "cell_type": "code",
   "execution_count": null,
   "id": "ec385b91-9b5d-4197-9d26-fe4ddb270d9a",
   "metadata": {},
   "outputs": [],
   "source": []
  },
  {
   "cell_type": "code",
   "execution_count": null,
   "id": "e864e8b4-4f7e-47d1-a8ce-d71d4935c55e",
   "metadata": {},
   "outputs": [],
   "source": []
  },
  {
   "cell_type": "code",
   "execution_count": null,
   "id": "c52b9ab2-93ae-4ef5-823b-b6e3bc743745",
   "metadata": {},
   "outputs": [],
   "source": []
  }
 ],
 "metadata": {
  "kernelspec": {
   "display_name": "Python 3 (ipykernel)",
   "language": "python",
   "name": "python3"
  },
  "language_info": {
   "codemirror_mode": {
    "name": "ipython",
    "version": 3
   },
   "file_extension": ".py",
   "mimetype": "text/x-python",
   "name": "python",
   "nbconvert_exporter": "python",
   "pygments_lexer": "ipython3",
   "version": "3.12.7"
  }
 },
 "nbformat": 4,
 "nbformat_minor": 5
}
