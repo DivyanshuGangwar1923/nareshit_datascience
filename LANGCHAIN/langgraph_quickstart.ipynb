{
 "cells": [
  {
   "cell_type": "code",
   "execution_count": 9,
   "id": "80b60108",
   "metadata": {},
   "outputs": [],
   "source": [
    "from langgraph.graph import StateGraph, END\n",
    "from typing import TypedDict\n",
    "from IPython.display import Image,display"
   ]
  },
  {
   "cell_type": "code",
   "execution_count": 10,
   "id": "2bf6866b",
   "metadata": {},
   "outputs": [],
   "source": [
    "class MyState(TypedDict):\n",
    "    message: str\n",
    "\n",
    "# Define the start node\n",
    "def start_node(state: MyState) -> MyState:\n",
    "    print(\"Start node received:\", state[\"message\"])\n",
    "    # Process or pass the message to the end node\n",
    "    return {\"message\": state[\"message\"] + \" -> processed by start\"}\n",
    "\n",
    "# Define the end node\n",
    "def end_node(state: MyState) -> MyState:\n",
    "    print(\"End node received:\", state[\"message\"])\n",
    "    return state\n",
    "\n",
    "# Build the graph\n",
    "builder = StateGraph(MyState)\n"
   ]
  },
  {
   "cell_type": "code",
   "execution_count": 11,
   "id": "063c4a64",
   "metadata": {},
   "outputs": [
    {
     "data": {
      "text/plain": [
       "<langgraph.graph.state.StateGraph at 0x22b54208620>"
      ]
     },
     "execution_count": 11,
     "metadata": {},
     "output_type": "execute_result"
    }
   ],
   "source": [
    "# Add nodes\n",
    "builder.add_node(\"start\",start_node)\n",
    "builder.add_node(\"end\",end_node)"
   ]
  },
  {
   "cell_type": "code",
   "execution_count": 12,
   "id": "d382e643",
   "metadata": {},
   "outputs": [
    {
     "data": {
      "text/plain": [
       "<langgraph.graph.state.StateGraph at 0x22b54208620>"
      ]
     },
     "execution_count": 12,
     "metadata": {},
     "output_type": "execute_result"
    }
   ],
   "source": [
    "#Define the flow\n",
    "builder.set_entry_point(\"start\")\n",
    "builder.add_edge(\"start\",\"end\")\n",
    "builder.add_edge(\"end\",END)\n"
   ]
  },
  {
   "cell_type": "code",
   "execution_count": 13,
   "id": "73bf1eb3",
   "metadata": {},
   "outputs": [
    {
     "name": "stdout",
     "output_type": "stream",
     "text": [
      "Start node received: Hello LangGraph\n",
      "End node received: Hello LangGraph -> processed by start\n",
      "Final result: Hello LangGraph -> processed by start\n"
     ]
    }
   ],
   "source": [
    "# Compile the graphe\n",
    "graph=builder.compile()\n",
    "\n",
    "# Run the graph\n",
    "result=graph.invoke({\"message\":\"Hello LangGraph\"})\n",
    "print(\"Final result:\",result[\"message\"])"
   ]
  },
  {
   "cell_type": "code",
   "execution_count": null,
   "id": "7912d890",
   "metadata": {},
   "outputs": [],
   "source": []
  }
 ],
 "metadata": {
  "kernelspec": {
   "display_name": "Python 3",
   "language": "python",
   "name": "python3"
  },
  "language_info": {
   "codemirror_mode": {
    "name": "ipython",
    "version": 3
   },
   "file_extension": ".py",
   "mimetype": "text/x-python",
   "name": "python",
   "nbconvert_exporter": "python",
   "pygments_lexer": "ipython3",
   "version": "3.12.10"
  }
 },
 "nbformat": 4,
 "nbformat_minor": 5
}
