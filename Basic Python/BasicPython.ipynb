{
 "cells": [
  {
   "cell_type": "code",
   "execution_count": 1,
   "id": "5c60033d-50e2-44e4-a91c-de09632ac197",
   "metadata": {},
   "outputs": [
    {
     "data": {
      "text/plain": [
       "9"
      ]
     },
     "execution_count": 1,
     "metadata": {},
     "output_type": "execute_result"
    }
   ],
   "source": [
    "9\n"
   ]
  },
  {
   "cell_type": "code",
   "execution_count": 2,
   "id": "3c0d8059-d81d-4e3d-abc1-87887c4b5057",
   "metadata": {},
   "outputs": [
    {
     "data": {
      "text/plain": [
       "2"
      ]
     },
     "execution_count": 2,
     "metadata": {},
     "output_type": "execute_result"
    }
   ],
   "source": [
    "1+1"
   ]
  },
  {
   "cell_type": "code",
   "execution_count": 3,
   "id": "9e7bf36b-fcaa-4e09-b28a-18f94a4d789d",
   "metadata": {},
   "outputs": [
    {
     "data": {
      "text/plain": [
       "18"
      ]
     },
     "execution_count": 3,
     "metadata": {},
     "output_type": "execute_result"
    }
   ],
   "source": [
    "9+9"
   ]
  },
  {
   "cell_type": "code",
   "execution_count": 7,
   "id": "b429bc98-8959-4a29-98ab-f95950e931a9",
   "metadata": {},
   "outputs": [
    {
     "data": {
      "text/plain": [
       "-15"
      ]
     },
     "execution_count": 7,
     "metadata": {},
     "output_type": "execute_result"
    }
   ],
   "source": [
    "9+9-(10*3)-3"
   ]
  },
  {
   "cell_type": "markdown",
   "id": "061e5dd4-4d9c-4ef6-bc9a-8edec0141016",
   "metadata": {},
   "source": [
    "#Operator\n"
   ]
  },
  {
   "cell_type": "code",
   "execution_count": 1,
   "id": "e72a33b6-b496-45fb-97c4-28ae5732c619",
   "metadata": {},
   "outputs": [
    {
     "ename": "NameError",
     "evalue": "name 'divs' is not defined",
     "output_type": "error",
     "traceback": [
      "\u001b[1;31m---------------------------------------------------------------------------\u001b[0m",
      "\u001b[1;31mNameError\u001b[0m                                 Traceback (most recent call last)",
      "Cell \u001b[1;32mIn[1], line 1\u001b[0m\n\u001b[1;32m----> 1\u001b[0m divs\n",
      "\u001b[1;31mNameError\u001b[0m: name 'divs' is not defined"
     ]
    }
   ],
   "source": [
    "divs\n"
   ]
  },
  {
   "cell_type": "code",
   "execution_count": 2,
   "id": "286cf9e4-5f5c-4039-a28c-3af5926093a8",
   "metadata": {},
   "outputs": [
    {
     "data": {
      "text/plain": [
       "'divs'"
      ]
     },
     "execution_count": 2,
     "metadata": {},
     "output_type": "execute_result"
    }
   ],
   "source": [
    "\"divs\""
   ]
  },
  {
   "cell_type": "code",
   "execution_count": 3,
   "id": "6a85ae0d-c9c1-48da-8e8e-e7cf7ca2b72b",
   "metadata": {},
   "outputs": [
    {
     "data": {
      "text/plain": [
       "'divs'"
      ]
     },
     "execution_count": 3,
     "metadata": {},
     "output_type": "execute_result"
    }
   ],
   "source": [
    "s=\"divs\"\n",
    "s"
   ]
  },
  {
   "cell_type": "code",
   "execution_count": 4,
   "id": "d4d98d4e-25d5-41af-a4bf-3e6fd54c4d4c",
   "metadata": {},
   "outputs": [
    {
     "data": {
      "text/plain": [
       "4"
      ]
     },
     "execution_count": 4,
     "metadata": {},
     "output_type": "execute_result"
    }
   ],
   "source": [
    "len(s)"
   ]
  },
  {
   "cell_type": "code",
   "execution_count": 1,
   "id": "b26c8d4c-fefb-433f-aae7-e12bd69f526f",
   "metadata": {},
   "outputs": [
    {
     "name": "stdout",
     "output_type": "stream",
     "text": [
      "5\n",
      "1\n",
      "6\n",
      "1.5\n",
      "9\n",
      "1\n",
      "1\n",
      "<class 'int'>\n",
      "<class 'float'>\n",
      "<class 'complex'>\n",
      "<class 'str'>\n",
      "<class 'list'>\n",
      "<class 'dict'>\n",
      "<class 'set'>\n",
      "<class 'tuple'>\n",
      "<class 'bool'>\n",
      "<class 'bool'>\n"
     ]
    }
   ],
   "source": [
    "print(3 + 2)   # addition(+)\n",
    "print(3 - 2)   # subtraction(-)\n",
    "print(3 * 2)   # multiplication(*)\n",
    "print(3 / 2)   # division(/)\n",
    "print(3 ** 2)  # exponential(**)\n",
    "print(3 % 2)   # modulus(%)\n",
    "print(3 // 2)  # Floor division operator(//)\n",
    "\n",
    "# Checking data types\n",
    "\n",
    "print(type(10))                  # Int\n",
    "print(type(3.14))                # Float\n",
    "print(type(1 + 3j))              # Complex\n",
    "print(type('prakashsenapati'))   # String\n",
    "print(type([1, 2, 3]))           # List\n",
    "print(type({'name':'senapati'})) # Dictionary\n",
    "print(type({9.8, 3.14, 2.7}))    # Set\n",
    "print(type((9.8, 3.14, 2.7)))    # Tuple\n",
    "print(type(3 == 3))              # Bool\n",
    "print(type(3 >= 3))              # Bool"
   ]
  },
  {
   "cell_type": "code",
   "execution_count": 2,
   "id": "3de7acbe-6ad7-4a1c-86cd-28f99ac2d324",
   "metadata": {},
   "outputs": [
    {
     "name": "stdout",
     "output_type": "stream",
     "text": [
      "P\n",
      "1\n",
      "Hello, World!\n",
      "13\n",
      "I hope you are enjoying 30 days of python challenge\n",
      "I am a teacher and enjoy teaching.\n",
      "I didn't find anything as rewarding as empowering people.\n",
      "That is why I created 30 days of python.\n",
      "I am a teacher and enjoy teaching.\n",
      "I didn't find anything as rewarding as empowering people.\n",
      "That is why I created 30 days of python.\n",
      "Asabeneh Yetayeh\n",
      "8\n",
      "7\n",
      "True\n",
      "16\n",
      "P\n",
      "y\n",
      "t\n",
      "h\n",
      "o\n",
      "n\n",
      "P\n",
      "y\n",
      "n\n",
      "n\n",
      "o\n",
      "hon\n",
      "hon\n",
      "hon\n",
      "Pto\n",
      "I hope every one enjoying the python challenge.\n",
      "Do you ?\n",
      "Days\tTopics\tExercises\n",
      "Day 1\t3\t5\n",
      "Day 2\t3\t5\n",
      "Day 3\t3\t5\n",
      "Day 4\t3\t5\n",
      "This is a back slash  symbol (\\)\n",
      "In every programming language it starts with \"Hello, World!\"\n",
      "Thirty days of python\n",
      "3\n",
      "1\n",
      "2\n",
      "True\n",
      "False\n",
      "thirty  days    of      python\n",
      "thirty    days      of        python\n",
      "5\n",
      "0\n",
      "I am Asabeneh Yetayeh. I am a teacher. I live in Finland.\n",
      "The area of circle with 10 is 3.14\n",
      "5\n",
      "0\n",
      "True\n",
      "True\n",
      "False\n",
      "False\n",
      "False\n",
      "False\n",
      "5\n",
      "0\n",
      "False\n"
     ]
    },
    {
     "ename": "AttributeError",
     "evalue": "'str' object has no attribute 'digit'",
     "output_type": "error",
     "traceback": [
      "\u001b[1;31m---------------------------------------------------------------------------\u001b[0m",
      "\u001b[1;31mAttributeError\u001b[0m                            Traceback (most recent call last)",
      "Cell \u001b[1;32mIn[2], line 170\u001b[0m\n\u001b[0;32m    168\u001b[0m \u001b[38;5;28mprint\u001b[39m(challenge\u001b[38;5;241m.\u001b[39misdigit()) \u001b[38;5;66;03m# False\u001b[39;00m\n\u001b[0;32m    169\u001b[0m challenge \u001b[38;5;241m=\u001b[39m \u001b[38;5;124m'\u001b[39m\u001b[38;5;124m30\u001b[39m\u001b[38;5;124m'\u001b[39m\n\u001b[1;32m--> 170\u001b[0m \u001b[38;5;28mprint\u001b[39m(challenge\u001b[38;5;241m.\u001b[39mdigit())   \u001b[38;5;66;03m# True\u001b[39;00m\n\u001b[0;32m    172\u001b[0m \u001b[38;5;66;03m# isdecimal():Checks decimal characters\u001b[39;00m\n\u001b[0;32m    174\u001b[0m num \u001b[38;5;241m=\u001b[39m \u001b[38;5;124m'\u001b[39m\u001b[38;5;124m10\u001b[39m\u001b[38;5;124m'\u001b[39m\n",
      "\u001b[1;31mAttributeError\u001b[0m: 'str' object has no attribute 'digit'"
     ]
    }
   ],
   "source": [
    "\n",
    "# Single line comment\n",
    "letter = 'P'                # A string could be a single character or a bunch of texts\n",
    "print(letter)               # P\n",
    "print(len(letter))          # 1\n",
    "greeting = 'Hello, World!'  # String could be  a single or double quote,\"Hello, World!\"\n",
    "print(greeting)             # Hello, World!\n",
    "print(len(greeting))        # 13\n",
    "sentence = \"I hope you are enjoying 30 days of python challenge\"\n",
    "print(sentence)\n",
    "\n",
    "# Multiline String\n",
    "multiline_string = '''I am a teacher and enjoy teaching.\n",
    "I didn't find anything as rewarding as empowering people.\n",
    "That is why I created 30 days of python.'''\n",
    "print(multiline_string)\n",
    "# Another way of doing the same thing\n",
    "multiline_string = \"\"\"I am a teacher and enjoy teaching.\n",
    "I didn't find anything as rewarding as empowering people.\n",
    "That is why I created 30 days of python.\"\"\"\n",
    "print(multiline_string)\n",
    "\n",
    "# String Concatenation\n",
    "first_name = 'Asabeneh'\n",
    "last_name = 'Yetayeh'\n",
    "space = ' '\n",
    "full_name = first_name  +  space + last_name\n",
    "print(full_name) # Asabeneh Yetayeh\n",
    "# Checking length of a string using len() builtin function\n",
    "print(len(first_name))  # 8\n",
    "print(len(last_name))   # 7\n",
    "print(len(first_name) > len(last_name)) # True\n",
    "print(len(full_name)) # 15\n",
    "\n",
    "#### Unpacking characters \n",
    "language = 'Python'\n",
    "a,b,c,d,e,f = language # unpacking sequence characters into variables\n",
    "print(a) # P\n",
    "print(b) # y\n",
    "print(c) # t \n",
    "print(d) # h\n",
    "print(e) # o\n",
    "print(f) # n\n",
    "\n",
    "# Accessing characters in strings by index\n",
    "language = 'Python'\n",
    "first_letter = language[0]\n",
    "print(first_letter) # P\n",
    "second_letter = language[1]\n",
    "print(second_letter) # y\n",
    "last_index = len(language) - 1\n",
    "last_letter = language[last_index]\n",
    "print(last_letter) # n\n",
    "\n",
    "# If we want to start from right end we can use negative indexing. -1 is the last index\n",
    "language = 'Python'\n",
    "last_letter = language[-1]\n",
    "print(last_letter) # n\n",
    "second_last = language[-2]\n",
    "print(second_last) # o\n",
    "\n",
    "# Slicing\n",
    "\n",
    "language = 'Python'\n",
    "first_three = language[0:3] # starts at zero index and up to 3 but not include 3\n",
    "last_three = language[3:6]\n",
    "print(last_three) # hon\n",
    "# Another way\n",
    "last_three = language[-3:]\n",
    "print(last_three)   # hon\n",
    "last_three = language[3:]\n",
    "print(last_three)   # hon\n",
    "\n",
    "# Skipping character while splitting Python strings\n",
    "language = 'Python'\n",
    "pto = language[0:6:2] # \n",
    "print(pto) # pto\n",
    "\n",
    "# Escape sequence\n",
    "print('I hope every one enjoying the python challenge.\\nDo you ?') # line break\n",
    "print('Days\\tTopics\\tExercises')\n",
    "print('Day 1\\t3\\t5')\n",
    "print('Day 2\\t3\\t5')\n",
    "print('Day 3\\t3\\t5')\n",
    "print('Day 4\\t3\\t5')\n",
    "print('This is a back slash  symbol (\\\\)') # To write a back slash\n",
    "print('In every programming language it starts with \\\"Hello, World!\\\"')\n",
    "\n",
    "## String Methods\n",
    "# capitalize(): Converts the first character the string to Capital Letter\n",
    "\n",
    "challenge = 'thirty days of python'\n",
    "print(challenge.capitalize()) # 'Thirty days of python'\n",
    "\n",
    "# count(): returns occurrences of substring in string, count(substring, start=.., end=..)\n",
    "\n",
    "challenge = 'thirty days of python'\n",
    "print(challenge.count('y')) # 3\n",
    "print(challenge.count('y', 7, 14)) # 1\n",
    "print(challenge.count('th')) # 2`\n",
    "\n",
    "# endswith(): Checks if a string ends with a specified ending\n",
    "\n",
    "challenge = 'thirty days of python'\n",
    "print(challenge.endswith('on'))   # True\n",
    "print(challenge.endswith('tion')) # False\n",
    "\n",
    "# expandtabs(): Replaces tab character with spaces, default tab size is 8. It takes tab size argument\n",
    "\n",
    "challenge = 'thirty\\tdays\\tof\\tpython'\n",
    "print(challenge.expandtabs())   # 'thirty  days    of      python'\n",
    "print(challenge.expandtabs(10)) # 'thirty    days      of        python'\n",
    "\n",
    "# find(): Returns the index of first occurrence of substring\n",
    "\n",
    "challenge = 'thirty days of python'\n",
    "print(challenge.find('y'))  # 5\n",
    "print(challenge.find('th')) # 0\n",
    "\n",
    "# format()\tformats string into nicer output    \n",
    "first_name = 'Asabeneh'\n",
    "last_name = 'Yetayeh'\n",
    "job = 'teacher'\n",
    "country = 'Finland'\n",
    "sentence = 'I am {} {}. I am a {}. I live in {}.'.format(first_name, last_name, job, country)\n",
    "print(sentence) # I am Asabeneh Yetayeh. I am a teacher. I live in Finland.\n",
    "\n",
    "radius = 10\n",
    "pi = 3.14\n",
    "area = pi # radius ## 2\n",
    "result = 'The area of circle with {} is {}'.format(str(radius), str(area))\n",
    "print(result) # The area of circle with 10 is 314.0\n",
    "\n",
    "# index(): Returns the index of substring\n",
    "challenge = 'thirty days of python'\n",
    "print(challenge.find('y'))  # 5\n",
    "print(challenge.find('th')) # 0\n",
    "\n",
    "# isalnum(): Checks alphanumeric character\n",
    "\n",
    "challenge = 'ThirtyDaysPython'\n",
    "print(challenge.isalnum()) # True\n",
    "\n",
    "challenge = '30DaysPython'\n",
    "print(challenge.isalnum()) # True\n",
    "\n",
    "challenge = 'thirty days of python'\n",
    "print(challenge.isalnum()) # False\n",
    "\n",
    "challenge = 'thirty days of python 2019'\n",
    "print(challenge.isalnum()) # False\n",
    "\n",
    "# isalpha(): Checks if all characters are alphabets\n",
    "\n",
    "challenge = 'thirty days of python'\n",
    "print(challenge.isalpha()) # True\n",
    "num = '123'\n",
    "print(num.isalpha())      # False\n",
    "\n",
    "# isdecimal(): Checks Decimal Characters\n",
    "\n",
    "challenge = 'thirty days of python'\n",
    "print(challenge.find('y'))  # 5\n",
    "print(challenge.find('th')) # 0\n",
    "\n",
    "# isdigit(): Checks Digit Characters\n",
    "\n",
    "challenge = 'Thirty'\n",
    "print(challenge.isdigit()) # False\n",
    "challenge = '30'\n",
    "print(challenge.digit())   # True\n",
    "\n",
    "# isdecimal():Checks decimal characters\n",
    "\n",
    "num = '10'\n",
    "print(num.isdecimal()) # True\n",
    "num = '10.5'\n",
    "print(num.isdecimal()) # False\n",
    "\n",
    "\n",
    "# isidentifier():Checks for valid identifier means it check if a string is a valid variable name\n",
    "\n",
    "challenge = '30DaysOfPython'\n",
    "print(challenge.isidentifier()) # False, because it starts with a number\n",
    "challenge = 'thirty_days_of_python'\n",
    "print(challenge.isidentifier()) # True\n",
    "\n",
    "\n",
    "# islower():Checks if all alphabets in a string are lowercase\n",
    "\n",
    "challenge = 'thirty days of python'\n",
    "print(challenge.islower()) # True\n",
    "challenge = 'Thirty days of python'\n",
    "print(challenge.islower()) # False\n",
    "\n",
    "# isupper(): returns if all characters are uppercase characters\n",
    "\n",
    "challenge = 'thirty days of python'\n",
    "print(challenge.isupper()) #  False\n",
    "challenge = 'THIRTY DAYS OF PYTHON'\n",
    "print(challenge.isupper()) # True\n",
    "\n",
    "\n",
    "# isnumeric():Checks numeric characters\n",
    "\n",
    "num = '10'\n",
    "print(num.isnumeric())      # True\n",
    "print('ten'.isnumeric())    # False\n",
    "\n",
    "# join(): Returns a concatenated string\n",
    "\n",
    "web_tech = ['HTML', 'CSS', 'JavaScript', 'React']\n",
    "result = '#, '.join(web_tech)\n",
    "print(result) # 'HTML# CSS# JavaScript# React'\n",
    "\n",
    "# strip(): Removes both leading and trailing characters\n",
    "\n",
    "challenge = ' thirty days of python '\n",
    "print(challenge.strip('y')) # 5\n",
    "\n",
    "# replace(): Replaces substring inside\n",
    "\n",
    "challenge = 'thirty days of python'\n",
    "print(challenge.replace('python', 'coding')) # 'thirty days of coding'\n",
    "\n",
    "# split():Splits String from Left\n",
    "\n",
    "challenge = 'thirty days of python'\n",
    "print(challenge.split()) # ['thirty', 'days', 'of', 'python']\n",
    "\n",
    "# title(): Returns a Title Cased String\n",
    "\n",
    "challenge = 'thirty days of python'\n",
    "print(challenge.title()) # Thirty Days Of Python\n",
    "\n",
    "# swapcase(): Checks if String Starts with the Specified String\n",
    "  \n",
    "challenge = 'thirty days of python'\n",
    "print(challenge.swapcase())   # THIRTY DAYS OF PYTHON\n",
    "challenge = 'Thirty Days Of Python'\n",
    "print(challenge.swapcase())  # tHIRTY dAYS oF pYTHON\n",
    "\n",
    "# startswith(): Checks if String Starts with the Specified String\n",
    "\n",
    "challenge = 'thirty days of python'\n",
    "print(challenge.startswith('thirty')) # True\n",
    "challenge = '30 days of python'\n",
    "print(challenge.startswith('thirty')) # False"
   ]
  },
  {
   "cell_type": "code",
   "execution_count": 3,
   "id": "e6254e8c-7ae0-4591-8fbb-8cae65f1dd21",
   "metadata": {},
   "outputs": [
    {
     "name": "stdout",
     "output_type": "stream",
     "text": [
      "P\n",
      "y\n",
      "t\n",
      "h\n",
      "o\n",
      "n\n"
     ]
    }
   ],
   "source": [
    "language = 'Python'\n",
    "a,b,c,d,e,f = language # unpacking sequence characters into variables\n",
    "print(a) # P\n",
    "print(b) # y\n",
    "print(c) # t \n",
    "print(d) # h\n",
    "print(e) # o\n",
    "print(f) # n"
   ]
  },
  {
   "cell_type": "code",
   "execution_count": 4,
   "id": "d93b9425-775e-4c21-83a1-cc608684f058",
   "metadata": {},
   "outputs": [
    {
     "name": "stdout",
     "output_type": "stream",
     "text": [
      "I hope every one enjoying the python challenge.\n",
      "Do you ?\n",
      "Days\tTopics\tExercises\n",
      "Day 1\t3\t5\n",
      "Day 2\t3\t5\n",
      "Day 3\t3\t5\n",
      "Day 4\t3\t5\n",
      "This is a back slash  symbol (\\)\n",
      "In every programming language it starts with \"Hello, World!\"\n"
     ]
    }
   ],
   "source": [
    "# Escape sequence\n",
    "print('I hope every one enjoying the python challenge.\\nDo you ?') # line break\n",
    "print('Days\\tTopics\\tExercises')\n",
    "print('Day 1\\t3\\t5')\n",
    "print('Day 2\\t3\\t5')\n",
    "print('Day 3\\t3\\t5')\n",
    "print('Day 4\\t3\\t5')\n",
    "print('This is a back slash  symbol (\\\\)') # To write a back slash\n",
    "print('In every programming language it starts with \\\"Hello, World!\\\"')"
   ]
  },
  {
   "cell_type": "code",
   "execution_count": 6,
   "id": "b4748cc6-abc3-49ac-aef0-545d32d3dbc2",
   "metadata": {},
   "outputs": [
    {
     "name": "stdout",
     "output_type": "stream",
     "text": [
      "In every programming language it 'starts' with \"Hello, World!\"\n"
     ]
    }
   ],
   "source": [
    "print('''In every programming language it 'starts' with \"Hello, World!\"''')"
   ]
  },
  {
   "cell_type": "code",
   "execution_count": 7,
   "id": "43df8f06-aaae-46f9-ae0d-5a65e66eddac",
   "metadata": {},
   "outputs": [
    {
     "name": "stdout",
     "output_type": "stream",
     "text": [
      "5\n",
      "0\n"
     ]
    }
   ],
   "source": [
    "challenge = 'thirty days of python'\n",
    "print(challenge.index('y'))  # 5\n",
    "print(challenge.index('th')) # 0"
   ]
  },
  {
   "cell_type": "code",
   "execution_count": 8,
   "id": "cc1b69ba-43cc-4212-8fdb-c690d9354d65",
   "metadata": {},
   "outputs": [
    {
     "name": "stdout",
     "output_type": "stream",
     "text": [
      "False\n"
     ]
    }
   ],
   "source": [
    "\n",
    "challenge = 'thirty days of python'\n",
    "print(challenge.isdecimal()) "
   ]
  },
  {
   "cell_type": "code",
   "execution_count": 9,
   "id": "5781fdfc-f1e5-4d29-8e8c-77dca7f954ce",
   "metadata": {},
   "outputs": [
    {
     "name": "stdout",
     "output_type": "stream",
     "text": [
      "False\n"
     ]
    }
   ],
   "source": [
    "\n",
    "challenge = '2.2 days of python'\n",
    "print(challenge.isdecimal()) "
   ]
  },
  {
   "cell_type": "code",
   "execution_count": 13,
   "id": "074e7fbd-f74c-4d87-be73-0662cd896491",
   "metadata": {},
   "outputs": [
    {
     "name": "stdout",
     "output_type": "stream",
     "text": [
      "False\n",
      "True\n"
     ]
    }
   ],
   "source": [
    "challenge = 'thirty days of python'\n",
    "print(challenge.isdecimal()) # False\n",
    "num = '123'\n",
    "print(num.isdecimal()) #True"
   ]
  },
  {
   "cell_type": "code",
   "execution_count": 11,
   "id": "d7872530-a687-4a81-9e67-4f5b19a70ca8",
   "metadata": {},
   "outputs": [
    {
     "name": "stdout",
     "output_type": "stream",
     "text": [
      "False\n"
     ]
    }
   ],
   "source": [
    "num = '123.2'\n",
    "print(num.isalpha()) #True"
   ]
  },
  {
   "cell_type": "code",
   "execution_count": 12,
   "id": "3e718f51-2cee-44b9-8218-c50a06aa893b",
   "metadata": {},
   "outputs": [
    {
     "data": {
      "text/plain": [
       "True"
      ]
     },
     "execution_count": 12,
     "metadata": {},
     "output_type": "execute_result"
    }
   ],
   "source": [
    "'2025'.isdecimal()"
   ]
  },
  {
   "cell_type": "code",
   "execution_count": 1,
   "id": "0495140a-ae61-448c-916b-a23f92b291fe",
   "metadata": {},
   "outputs": [
    {
     "data": {
      "text/plain": [
       "True"
      ]
     },
     "execution_count": 1,
     "metadata": {},
     "output_type": "execute_result"
    }
   ],
   "source": [
    "True"
   ]
  },
  {
   "cell_type": "code",
   "execution_count": 2,
   "id": "dd23a3e7-db9c-4bb1-b571-d18780da6891",
   "metadata": {},
   "outputs": [],
   "source": [
    "b=True\n",
    "b1=False"
   ]
  },
  {
   "cell_type": "code",
   "execution_count": 3,
   "id": "1b88b18f-b085-4a0c-a3ae-cacfa7b9baa7",
   "metadata": {},
   "outputs": [
    {
     "data": {
      "text/plain": [
       "True"
      ]
     },
     "execution_count": 3,
     "metadata": {},
     "output_type": "execute_result"
    }
   ],
   "source": [
    "b"
   ]
  },
  {
   "cell_type": "code",
   "execution_count": 4,
   "id": "4bb4eedf-a997-4b97-bf2f-fa322733701a",
   "metadata": {},
   "outputs": [
    {
     "data": {
      "text/plain": [
       "1"
      ]
     },
     "execution_count": 4,
     "metadata": {},
     "output_type": "execute_result"
    }
   ],
   "source": [
    "b+b1"
   ]
  },
  {
   "cell_type": "code",
   "execution_count": 5,
   "id": "6e4b2c7d-5f8b-4522-a345-627b5d36cb05",
   "metadata": {},
   "outputs": [
    {
     "data": {
      "text/plain": [
       "1"
      ]
     },
     "execution_count": 5,
     "metadata": {},
     "output_type": "execute_result"
    }
   ],
   "source": [
    "b-b1"
   ]
  },
  {
   "cell_type": "code",
   "execution_count": 6,
   "id": "d110a1f5-44eb-4335-b65e-dc34a75541ac",
   "metadata": {},
   "outputs": [
    {
     "data": {
      "text/plain": [
       "-1"
      ]
     },
     "execution_count": 6,
     "metadata": {},
     "output_type": "execute_result"
    }
   ],
   "source": [
    "b1-b"
   ]
  },
  {
   "cell_type": "code",
   "execution_count": 7,
   "id": "b9503300-23ae-4c5a-b2ac-dff487f0f9fc",
   "metadata": {},
   "outputs": [
    {
     "data": {
      "text/plain": [
       "0"
      ]
     },
     "execution_count": 7,
     "metadata": {},
     "output_type": "execute_result"
    }
   ],
   "source": [
    "b*b1"
   ]
  },
  {
   "cell_type": "code",
   "execution_count": 8,
   "id": "2f7b3572-8992-470c-a423-ea515aea15fe",
   "metadata": {},
   "outputs": [],
   "source": [
    "a1=10+11j"
   ]
  },
  {
   "cell_type": "code",
   "execution_count": 9,
   "id": "321d8772-4ab8-434f-82ae-800499edd746",
   "metadata": {},
   "outputs": [
    {
     "data": {
      "text/plain": [
       "(10+11j)"
      ]
     },
     "execution_count": 9,
     "metadata": {},
     "output_type": "execute_result"
    }
   ],
   "source": [
    "a1"
   ]
  },
  {
   "cell_type": "code",
   "execution_count": 11,
   "id": "0066094c-2d35-4ff2-921c-177df605ed81",
   "metadata": {},
   "outputs": [
    {
     "data": {
      "text/plain": [
       "complex"
      ]
     },
     "execution_count": 11,
     "metadata": {},
     "output_type": "execute_result"
    }
   ],
   "source": [
    "type(a1)"
   ]
  },
  {
   "cell_type": "code",
   "execution_count": 12,
   "id": "cc98cdd1-07d6-4902-97ed-64fe1c6d3ddf",
   "metadata": {},
   "outputs": [
    {
     "ename": "NameError",
     "evalue": "name 'c1' is not defined",
     "output_type": "error",
     "traceback": [
      "\u001b[1;31m---------------------------------------------------------------------------\u001b[0m",
      "\u001b[1;31mNameError\u001b[0m                                 Traceback (most recent call last)",
      "Cell \u001b[1;32mIn[12], line 1\u001b[0m\n\u001b[1;32m----> 1\u001b[0m c1\u001b[38;5;241m.\u001b[39mreal\n",
      "\u001b[1;31mNameError\u001b[0m: name 'c1' is not defined"
     ]
    }
   ],
   "source": [
    "c1.real"
   ]
  },
  {
   "cell_type": "code",
   "execution_count": 13,
   "id": "b26f361d-606d-4330-9822-41ffc9d7bc77",
   "metadata": {},
   "outputs": [
    {
     "data": {
      "text/plain": [
       "10.0"
      ]
     },
     "execution_count": 13,
     "metadata": {},
     "output_type": "execute_result"
    }
   ],
   "source": [
    "a1.real\n"
   ]
  },
  {
   "cell_type": "code",
   "execution_count": 14,
   "id": "3904b2fd-9cda-41f3-9056-ec562a8c21ea",
   "metadata": {},
   "outputs": [
    {
     "data": {
      "text/plain": [
       "11.0"
      ]
     },
     "execution_count": 14,
     "metadata": {},
     "output_type": "execute_result"
    }
   ],
   "source": [
    "a1.imag"
   ]
  },
  {
   "cell_type": "code",
   "execution_count": 15,
   "id": "1ebf3ca0-3cc5-424f-a0ef-e4869241fb48",
   "metadata": {},
   "outputs": [
    {
     "data": {
      "text/plain": [
       "<function complex.conjugate()>"
      ]
     },
     "execution_count": 15,
     "metadata": {},
     "output_type": "execute_result"
    }
   ],
   "source": [
    "a1.conjugate"
   ]
  },
  {
   "cell_type": "code",
   "execution_count": 16,
   "id": "f9c8cdc3-3d2f-4a15-b0a4-4ef577de0770",
   "metadata": {},
   "outputs": [],
   "source": [
    "a2=10+5j"
   ]
  },
  {
   "cell_type": "code",
   "execution_count": 17,
   "id": "3435142a-67ad-4b63-be76-acfddf33abdc",
   "metadata": {},
   "outputs": [
    {
     "data": {
      "text/plain": [
       "(20+16j)"
      ]
     },
     "execution_count": 17,
     "metadata": {},
     "output_type": "execute_result"
    }
   ],
   "source": [
    "a1+a2"
   ]
  },
  {
   "cell_type": "code",
   "execution_count": 18,
   "id": "d855b37d-575e-4153-a91b-7c787dcf0e25",
   "metadata": {},
   "outputs": [
    {
     "data": {
      "text/plain": [
       "3.0"
      ]
     },
     "execution_count": 18,
     "metadata": {},
     "output_type": "execute_result"
    }
   ],
   "source": [
    "float(3)"
   ]
  },
  {
   "cell_type": "code",
   "execution_count": 1,
   "id": "c6717efe-56ab-4a74-a7cf-29ad459c22d5",
   "metadata": {},
   "outputs": [
    {
     "data": {
      "text/plain": [
       "23.0"
      ]
     },
     "execution_count": 1,
     "metadata": {},
     "output_type": "execute_result"
    }
   ],
   "source": [
    "float('23')"
   ]
  },
  {
   "cell_type": "code",
   "execution_count": 2,
   "id": "be625f78-4f26-4b73-a008-4088e2571c3f",
   "metadata": {},
   "outputs": [
    {
     "data": {
      "text/plain": [
       "1.0"
      ]
     },
     "execution_count": 2,
     "metadata": {},
     "output_type": "execute_result"
    }
   ],
   "source": [
    "float(True)"
   ]
  },
  {
   "cell_type": "code",
   "execution_count": 3,
   "id": "1fcf121f-cfee-4818-ac48-41cb660a5b35",
   "metadata": {},
   "outputs": [
    {
     "ename": "TypeError",
     "evalue": "float() argument must be a string or a real number, not 'complex'",
     "output_type": "error",
     "traceback": [
      "\u001b[1;31m---------------------------------------------------------------------------\u001b[0m",
      "\u001b[1;31mTypeError\u001b[0m                                 Traceback (most recent call last)",
      "Cell \u001b[1;32mIn[3], line 1\u001b[0m\n\u001b[1;32m----> 1\u001b[0m \u001b[38;5;28mfloat\u001b[39m(\u001b[38;5;241m1\u001b[39m\u001b[38;5;241m+\u001b[39m\u001b[38;5;241m2\u001b[39mj)\n",
      "\u001b[1;31mTypeError\u001b[0m: float() argument must be a string or a real number, not 'complex'"
     ]
    }
   ],
   "source": [
    "float(1+2j)"
   ]
  },
  {
   "cell_type": "code",
   "execution_count": 4,
   "id": "d06b3585-cb5c-4ba3-9d54-117ba65c0f0a",
   "metadata": {},
   "outputs": [
    {
     "ename": "TypeError",
     "evalue": "complex() can't take second arg if first is a string",
     "output_type": "error",
     "traceback": [
      "\u001b[1;31m---------------------------------------------------------------------------\u001b[0m",
      "\u001b[1;31mTypeError\u001b[0m                                 Traceback (most recent call last)",
      "Cell \u001b[1;32mIn[4], line 1\u001b[0m\n\u001b[1;32m----> 1\u001b[0m \u001b[38;5;28mcomplex\u001b[39m(\u001b[38;5;124m'\u001b[39m\u001b[38;5;124m10\u001b[39m\u001b[38;5;124m'\u001b[39m,\u001b[38;5;241m52\u001b[39m)\n",
      "\u001b[1;31mTypeError\u001b[0m: complex() can't take second arg if first is a string"
     ]
    }
   ],
   "source": [
    "complex('10',52)"
   ]
  },
  {
   "cell_type": "code",
   "execution_count": 5,
   "id": "93d2f81f-d6c1-478d-af41-8fb078c7768b",
   "metadata": {},
   "outputs": [
    {
     "ename": "TypeError",
     "evalue": "complex() can't take second arg if first is a string",
     "output_type": "error",
     "traceback": [
      "\u001b[1;31m---------------------------------------------------------------------------\u001b[0m",
      "\u001b[1;31mTypeError\u001b[0m                                 Traceback (most recent call last)",
      "Cell \u001b[1;32mIn[5], line 1\u001b[0m\n\u001b[1;32m----> 1\u001b[0m \u001b[38;5;28mcomplex\u001b[39m(\u001b[38;5;124m'\u001b[39m\u001b[38;5;124m10\u001b[39m\u001b[38;5;124m'\u001b[39m,\u001b[38;5;124m'\u001b[39m\u001b[38;5;124m52\u001b[39m\u001b[38;5;124m'\u001b[39m)\n",
      "\u001b[1;31mTypeError\u001b[0m: complex() can't take second arg if first is a string"
     ]
    }
   ],
   "source": [
    "complex('10','52')"
   ]
  },
  {
   "cell_type": "code",
   "execution_count": 6,
   "id": "256383dd-b236-4946-a588-dc0d4ee73ef2",
   "metadata": {},
   "outputs": [
    {
     "data": {
      "text/plain": [
       "True"
      ]
     },
     "execution_count": 6,
     "metadata": {},
     "output_type": "execute_result"
    }
   ],
   "source": [
    "bool(1)"
   ]
  },
  {
   "cell_type": "code",
   "execution_count": 7,
   "id": "cdadafa0-b975-4133-8ca8-1f8c88468438",
   "metadata": {},
   "outputs": [
    {
     "data": {
      "text/plain": [
       "True"
      ]
     },
     "execution_count": 7,
     "metadata": {},
     "output_type": "execute_result"
    }
   ],
   "source": [
    "bool(2)"
   ]
  },
  {
   "cell_type": "code",
   "execution_count": 8,
   "id": "1045fc52-cfd2-4805-8b5e-f7058df72709",
   "metadata": {},
   "outputs": [
    {
     "data": {
      "text/plain": [
       "False"
      ]
     },
     "execution_count": 8,
     "metadata": {},
     "output_type": "execute_result"
    }
   ],
   "source": [
    "bool(0)"
   ]
  },
  {
   "cell_type": "code",
   "execution_count": 9,
   "id": "bd429ca9-aabc-48e6-91f6-d4e5b33167a1",
   "metadata": {},
   "outputs": [
    {
     "data": {
      "text/plain": [
       "True"
      ]
     },
     "execution_count": 9,
     "metadata": {},
     "output_type": "execute_result"
    }
   ],
   "source": [
    "bool(10)"
   ]
  },
  {
   "cell_type": "code",
   "execution_count": 10,
   "id": "712ba0d3-b54f-47b6-b7cd-750624910306",
   "metadata": {},
   "outputs": [
    {
     "data": {
      "text/plain": [
       "True"
      ]
     },
     "execution_count": 10,
     "metadata": {},
     "output_type": "execute_result"
    }
   ],
   "source": [
    "bool('10')"
   ]
  },
  {
   "cell_type": "markdown",
   "id": "5544158f-c0dc-4486-bbd1-832404032812",
   "metadata": {},
   "source": [
    "### String indexing and slicing "
   ]
  },
  {
   "cell_type": "code",
   "execution_count": 12,
   "id": "f83ccb8a-889c-4a5f-bf69-6d201843f05c",
   "metadata": {},
   "outputs": [
    {
     "data": {
      "text/plain": [
       "'HELLOPYHTON'"
      ]
     },
     "execution_count": 12,
     "metadata": {},
     "output_type": "execute_result"
    }
   ],
   "source": [
    "s9='HELLOPYHTON'\n",
    "s9"
   ]
  },
  {
   "cell_type": "code",
   "execution_count": 13,
   "id": "4cba4967-6fa7-4501-89d8-3cdef411fc3a",
   "metadata": {},
   "outputs": [
    {
     "data": {
      "text/plain": [
       "'HELLOPYHTON'"
      ]
     },
     "execution_count": 13,
     "metadata": {},
     "output_type": "execute_result"
    }
   ],
   "source": [
    "s9[:]"
   ]
  },
  {
   "cell_type": "code",
   "execution_count": 14,
   "id": "8376f747-3df9-4326-8b78-1c1289262692",
   "metadata": {},
   "outputs": [
    {
     "data": {
      "text/plain": [
       "'H'"
      ]
     },
     "execution_count": 14,
     "metadata": {},
     "output_type": "execute_result"
    }
   ],
   "source": [
    "s9[0]"
   ]
  },
  {
   "cell_type": "code",
   "execution_count": 15,
   "id": "421cd114-e964-4fbd-81dc-35fe57aefda5",
   "metadata": {},
   "outputs": [
    {
     "ename": "TypeError",
     "evalue": "string indices must be integers, not 'tuple'",
     "output_type": "error",
     "traceback": [
      "\u001b[1;31m---------------------------------------------------------------------------\u001b[0m",
      "\u001b[1;31mTypeError\u001b[0m                                 Traceback (most recent call last)",
      "Cell \u001b[1;32mIn[15], line 1\u001b[0m\n\u001b[1;32m----> 1\u001b[0m s9[\u001b[38;5;241m0\u001b[39m,\u001b[38;5;241m9\u001b[39m]\n",
      "\u001b[1;31mTypeError\u001b[0m: string indices must be integers, not 'tuple'"
     ]
    }
   ],
   "source": [
    "s9[0,9]"
   ]
  },
  {
   "cell_type": "code",
   "execution_count": 16,
   "id": "0dc24d7b-ea52-4669-9f28-3e41b9a460d1",
   "metadata": {},
   "outputs": [
    {
     "name": "stdout",
     "output_type": "stream",
     "text": [
      "H\n",
      "E\n",
      "L\n",
      "L\n",
      "O\n",
      "P\n",
      "Y\n",
      "H\n",
      "T\n",
      "O\n",
      "N\n"
     ]
    }
   ],
   "source": [
    "for i in s9:\n",
    "    print(i)"
   ]
  },
  {
   "cell_type": "code",
   "execution_count": 17,
   "id": "6f9429ed-8889-47b5-ab63-a810b475b764",
   "metadata": {},
   "outputs": [
    {
     "data": {
      "text/plain": [
       "'ELP'"
      ]
     },
     "execution_count": 17,
     "metadata": {},
     "output_type": "execute_result"
    }
   ],
   "source": [
    "s9[1:6:2]"
   ]
  },
  {
   "cell_type": "code",
   "execution_count": 18,
   "id": "15068db0-4371-412d-ad46-33401732eb69",
   "metadata": {},
   "outputs": [
    {
     "data": {
      "text/plain": [
       "'NOTHYPOLLEH'"
      ]
     },
     "execution_count": 18,
     "metadata": {},
     "output_type": "execute_result"
    }
   ],
   "source": [
    "s9[::-1]"
   ]
  },
  {
   "cell_type": "code",
   "execution_count": 19,
   "id": "60809247-7634-47c6-946f-8cd1fc5a9b08",
   "metadata": {},
   "outputs": [
    {
     "data": {
      "text/plain": [
       "'ELLOPYHT'"
      ]
     },
     "execution_count": 19,
     "metadata": {},
     "output_type": "execute_result"
    }
   ],
   "source": [
    "s9[1:9]"
   ]
  },
  {
   "cell_type": "code",
   "execution_count": 20,
   "id": "64bb0265-2aca-4603-979f-4221dc3fd0ae",
   "metadata": {},
   "outputs": [
    {
     "data": {
      "text/plain": [
       "'HELLOPYHTO'"
      ]
     },
     "execution_count": 20,
     "metadata": {},
     "output_type": "execute_result"
    }
   ],
   "source": [
    "s9[0:-1]\n"
   ]
  },
  {
   "cell_type": "code",
   "execution_count": 21,
   "id": "f090bfb1-a27e-464f-a0d2-11c63a2aaa03",
   "metadata": {},
   "outputs": [
    {
     "data": {
      "text/plain": [
       "'HLOYTN'"
      ]
     },
     "execution_count": 21,
     "metadata": {},
     "output_type": "execute_result"
    }
   ],
   "source": [
    "s9[0:11:2]"
   ]
  },
  {
   "cell_type": "code",
   "execution_count": 23,
   "id": "41dd5215-8843-4b1f-95e1-b4942c05cd7f",
   "metadata": {},
   "outputs": [
    {
     "name": "stdout",
     "output_type": "stream",
     "text": [
      "The addition of 20 and 30 is=50\n"
     ]
    }
   ],
   "source": [
    "num1=20\n",
    "num2=30\n",
    "add=num1+num2\n",
    "\n",
    "print('The addition of {} and {} is={}'.format(num1,num2,add))"
   ]
  },
  {
   "cell_type": "markdown",
   "id": "2bd0f1d5-0fde-4e1d-b696-63e18d6ee219",
   "metadata": {},
   "source": [
    "## 21 apr"
   ]
  },
  {
   "cell_type": "code",
   "execution_count": 2,
   "id": "a0c744b4-15fc-4bf6-a13e-e04db3fe82d8",
   "metadata": {},
   "outputs": [
    {
     "data": {
      "text/plain": [
       "float"
      ]
     },
     "execution_count": 2,
     "metadata": {},
     "output_type": "execute_result"
    }
   ],
   "source": [
    "i=5.5\n",
    "type(i)"
   ]
  },
  {
   "cell_type": "markdown",
   "id": "88bde57c-2102-4616-874b-fafbf477c927",
   "metadata": {},
   "source": [
    "# List"
   ]
  },
  {
   "cell_type": "code",
   "execution_count": 3,
   "id": "586a8ae1-15f2-4973-a5c7-f89bf6410ed1",
   "metadata": {},
   "outputs": [
    {
     "data": {
      "text/plain": [
       "[]"
      ]
     },
     "execution_count": 3,
     "metadata": {},
     "output_type": "execute_result"
    }
   ],
   "source": [
    "l=[]\n",
    "l"
   ]
  },
  {
   "cell_type": "code",
   "execution_count": 4,
   "id": "f81f11b8-cc98-43eb-88b5-54d948c42421",
   "metadata": {},
   "outputs": [
    {
     "data": {
      "text/plain": [
       "list"
      ]
     },
     "execution_count": 4,
     "metadata": {},
     "output_type": "execute_result"
    }
   ],
   "source": [
    "type(l)"
   ]
  },
  {
   "cell_type": "code",
   "execution_count": 7,
   "id": "75719425-f0c4-4c27-8be4-b3ec63be6735",
   "metadata": {},
   "outputs": [
    {
     "data": {
      "text/plain": [
       "[10, 10]"
      ]
     },
     "execution_count": 7,
     "metadata": {},
     "output_type": "execute_result"
    }
   ],
   "source": [
    "l.append(10)\n",
    "l"
   ]
  },
  {
   "cell_type": "code",
   "execution_count": 8,
   "id": "542189e6-fd0a-449c-9bb9-e082cb445ed0",
   "metadata": {},
   "outputs": [],
   "source": [
    "l.append(20)\n",
    "l.append(30)\n",
    "l.append(40)\n",
    "l.append(50)\n"
   ]
  },
  {
   "cell_type": "code",
   "execution_count": 9,
   "id": "b00a81c8-ca16-4e8f-9335-7e75184e8eb6",
   "metadata": {},
   "outputs": [
    {
     "data": {
      "text/plain": [
       "[10, 10, 20, 30, 40, 50]"
      ]
     },
     "execution_count": 9,
     "metadata": {},
     "output_type": "execute_result"
    }
   ],
   "source": [
    "l"
   ]
  },
  {
   "cell_type": "code",
   "execution_count": 10,
   "id": "d5380995-7b6f-437c-902d-c60dcb7b9b1d",
   "metadata": {},
   "outputs": [
    {
     "ename": "TypeError",
     "evalue": "list.append() takes exactly one argument (2 given)",
     "output_type": "error",
     "traceback": [
      "\u001b[1;31m---------------------------------------------------------------------------\u001b[0m",
      "\u001b[1;31mTypeError\u001b[0m                                 Traceback (most recent call last)",
      "Cell \u001b[1;32mIn[10], line 1\u001b[0m\n\u001b[1;32m----> 1\u001b[0m l\u001b[38;5;241m.\u001b[39mappend(\u001b[38;5;241m10\u001b[39m,\u001b[38;5;241m20\u001b[39m)\n",
      "\u001b[1;31mTypeError\u001b[0m: list.append() takes exactly one argument (2 given)"
     ]
    }
   ],
   "source": [
    "l.append(10,20)"
   ]
  },
  {
   "cell_type": "code",
   "execution_count": 11,
   "id": "1e54c42f-b87d-437e-b083-7623a6f8c7f2",
   "metadata": {},
   "outputs": [
    {
     "data": {
      "text/plain": [
       "[10, 10, 20, 30, 40, 50]"
      ]
     },
     "execution_count": 11,
     "metadata": {},
     "output_type": "execute_result"
    }
   ],
   "source": [
    "l"
   ]
  },
  {
   "cell_type": "code",
   "execution_count": 12,
   "id": "44690401-b433-4f84-8644-17383c6f77d7",
   "metadata": {},
   "outputs": [],
   "source": [
    "l1=[]"
   ]
  },
  {
   "cell_type": "code",
   "execution_count": 13,
   "id": "992cc7ec-03a7-49f6-928f-74d4fcac780f",
   "metadata": {},
   "outputs": [],
   "source": [
    "l1=l.copy()"
   ]
  },
  {
   "cell_type": "code",
   "execution_count": 14,
   "id": "e8a96ed0-cb3e-4f0d-afdd-847bc5dc4bc2",
   "metadata": {},
   "outputs": [
    {
     "data": {
      "text/plain": [
       "[10, 10, 20, 30, 40, 50]"
      ]
     },
     "execution_count": 14,
     "metadata": {},
     "output_type": "execute_result"
    }
   ],
   "source": [
    "l1"
   ]
  },
  {
   "cell_type": "code",
   "execution_count": 15,
   "id": "d2835882-3183-4314-8433-3ddc29d96790",
   "metadata": {},
   "outputs": [],
   "source": [
    "l1.append(2.3)"
   ]
  },
  {
   "cell_type": "code",
   "execution_count": 16,
   "id": "0b7f5e5d-c07a-4def-ab1a-70f453c395e8",
   "metadata": {},
   "outputs": [
    {
     "data": {
      "text/plain": [
       "[10, 10, 20, 30, 40, 50, 2.3, 'nit', (1+2j), [1, 2, 3]]"
      ]
     },
     "execution_count": 16,
     "metadata": {},
     "output_type": "execute_result"
    }
   ],
   "source": [
    "l1.append('nit')\n",
    "l1.append(1+2j)\n",
    "l1.append([1,2,3])\n",
    "\n",
    "l1"
   ]
  },
  {
   "cell_type": "code",
   "execution_count": 17,
   "id": "767ad66b-d63b-4474-b1cf-f3d721bbad43",
   "metadata": {},
   "outputs": [
    {
     "name": "stdout",
     "output_type": "stream",
     "text": [
      "6\n"
     ]
    }
   ],
   "source": [
    "print(len(l))"
   ]
  },
  {
   "cell_type": "code",
   "execution_count": 18,
   "id": "223700b3-d742-462d-9ec5-5acbc6c7a73d",
   "metadata": {},
   "outputs": [
    {
     "name": "stdout",
     "output_type": "stream",
     "text": [
      "10\n"
     ]
    }
   ],
   "source": [
    "print(len(l1))"
   ]
  },
  {
   "cell_type": "code",
   "execution_count": 19,
   "id": "e42ed314-2754-4681-b2ab-8b3453c59af7",
   "metadata": {},
   "outputs": [],
   "source": [
    "l2=l.copy()"
   ]
  },
  {
   "cell_type": "code",
   "execution_count": 20,
   "id": "755c8084-9bb8-4ddc-8813-e723ccd8ddcb",
   "metadata": {},
   "outputs": [
    {
     "data": {
      "text/plain": [
       "[10, 10, 20, 30, 40, 50]"
      ]
     },
     "execution_count": 20,
     "metadata": {},
     "output_type": "execute_result"
    }
   ],
   "source": [
    "l[:]"
   ]
  },
  {
   "cell_type": "code",
   "execution_count": 21,
   "id": "c6725db9-3809-4179-afd6-3127af48caa6",
   "metadata": {},
   "outputs": [
    {
     "data": {
      "text/plain": [
       "10"
      ]
     },
     "execution_count": 21,
     "metadata": {},
     "output_type": "execute_result"
    }
   ],
   "source": [
    "l[0]"
   ]
  },
  {
   "cell_type": "code",
   "execution_count": 22,
   "id": "8e644e87-c33a-4f36-a305-1e2e54fe0935",
   "metadata": {},
   "outputs": [],
   "source": [
    "l[1]=15"
   ]
  },
  {
   "cell_type": "code",
   "execution_count": 23,
   "id": "9832550d-470d-4272-ba0d-69411c428b43",
   "metadata": {},
   "outputs": [
    {
     "data": {
      "text/plain": [
       "[10, 15, 20, 30, 40, 50]"
      ]
     },
     "execution_count": 23,
     "metadata": {},
     "output_type": "execute_result"
    }
   ],
   "source": [
    "l"
   ]
  },
  {
   "cell_type": "code",
   "execution_count": 24,
   "id": "8a80407d-7657-47cf-9154-282ec33663b5",
   "metadata": {},
   "outputs": [
    {
     "data": {
      "text/plain": [
       "[10, 15, 20, 30, 40, 60]"
      ]
     },
     "execution_count": 24,
     "metadata": {},
     "output_type": "execute_result"
    }
   ],
   "source": [
    "l[-1]=60\n",
    "l"
   ]
  },
  {
   "cell_type": "code",
   "execution_count": 25,
   "id": "519b8338-99e6-4040-b997-ddb65212f6a9",
   "metadata": {},
   "outputs": [
    {
     "data": {
      "text/plain": [
       "[30, 40, 60]"
      ]
     },
     "execution_count": 25,
     "metadata": {},
     "output_type": "execute_result"
    }
   ],
   "source": [
    "l[3:]"
   ]
  },
  {
   "cell_type": "code",
   "execution_count": 26,
   "id": "259cd9d0-fdb0-418d-903e-a301bf5871fc",
   "metadata": {},
   "outputs": [
    {
     "data": {
      "text/plain": [
       "[10, 15, 20]"
      ]
     },
     "execution_count": 26,
     "metadata": {},
     "output_type": "execute_result"
    }
   ],
   "source": [
    "l[:3]"
   ]
  },
  {
   "cell_type": "code",
   "execution_count": 27,
   "id": "2202a0b3-7a43-45b5-bb56-9dc2c8188733",
   "metadata": {},
   "outputs": [
    {
     "data": {
      "text/plain": [
       "[10, 15, 20, 30, 40, 60]"
      ]
     },
     "execution_count": 27,
     "metadata": {},
     "output_type": "execute_result"
    }
   ],
   "source": [
    "l[:10]"
   ]
  },
  {
   "cell_type": "code",
   "execution_count": 28,
   "id": "dafb2d6a-daa6-4783-9ce9-989cc0582e16",
   "metadata": {},
   "outputs": [
    {
     "ename": "IndexError",
     "evalue": "list index out of range",
     "output_type": "error",
     "traceback": [
      "\u001b[1;31m---------------------------------------------------------------------------\u001b[0m",
      "\u001b[1;31mIndexError\u001b[0m                                Traceback (most recent call last)",
      "Cell \u001b[1;32mIn[28], line 1\u001b[0m\n\u001b[1;32m----> 1\u001b[0m l[\u001b[38;5;241m10\u001b[39m]\n",
      "\u001b[1;31mIndexError\u001b[0m: list index out of range"
     ]
    }
   ],
   "source": [
    "l[10]"
   ]
  },
  {
   "cell_type": "code",
   "execution_count": 29,
   "id": "89017a05-963c-4d34-8e3b-b3e0602c11a2",
   "metadata": {},
   "outputs": [
    {
     "data": {
      "text/plain": [
       "[]"
      ]
     },
     "execution_count": 29,
     "metadata": {},
     "output_type": "execute_result"
    }
   ],
   "source": [
    "l[10:]"
   ]
  },
  {
   "cell_type": "code",
   "execution_count": 30,
   "id": "073161de-c520-401e-924a-5c139705e059",
   "metadata": {},
   "outputs": [
    {
     "data": {
      "text/plain": [
       "[10, 15, 20, 30, 40, 60]"
      ]
     },
     "execution_count": 30,
     "metadata": {},
     "output_type": "execute_result"
    }
   ],
   "source": [
    "l[:10]"
   ]
  },
  {
   "cell_type": "code",
   "execution_count": 31,
   "id": "5f7408f9-c407-480e-a1c3-4945f2e6ea1f",
   "metadata": {},
   "outputs": [
    {
     "data": {
      "text/plain": [
       "[10, 10, 20, 30, 40, 50]"
      ]
     },
     "execution_count": 31,
     "metadata": {},
     "output_type": "execute_result"
    }
   ],
   "source": [
    "l2"
   ]
  },
  {
   "cell_type": "code",
   "execution_count": 32,
   "id": "deca344f-bd73-4921-bcaa-5b2fd959c4df",
   "metadata": {},
   "outputs": [],
   "source": [
    "l2.clear()"
   ]
  },
  {
   "cell_type": "code",
   "execution_count": 33,
   "id": "f2a55231-a4cd-4d95-bfd3-13ba417e9e0f",
   "metadata": {},
   "outputs": [
    {
     "data": {
      "text/plain": [
       "[]"
      ]
     },
     "execution_count": 33,
     "metadata": {},
     "output_type": "execute_result"
    }
   ],
   "source": [
    "l2"
   ]
  },
  {
   "cell_type": "code",
   "execution_count": 34,
   "id": "e17163c3-45eb-4080-bd64-1bb501a9c17b",
   "metadata": {},
   "outputs": [],
   "source": [
    "del l2"
   ]
  },
  {
   "cell_type": "code",
   "execution_count": 35,
   "id": "0640536d-c102-4605-9b43-104300ac831a",
   "metadata": {},
   "outputs": [
    {
     "ename": "NameError",
     "evalue": "name 'l2' is not defined",
     "output_type": "error",
     "traceback": [
      "\u001b[1;31m---------------------------------------------------------------------------\u001b[0m",
      "\u001b[1;31mNameError\u001b[0m                                 Traceback (most recent call last)",
      "Cell \u001b[1;32mIn[35], line 1\u001b[0m\n\u001b[1;32m----> 1\u001b[0m l2\n",
      "\u001b[1;31mNameError\u001b[0m: name 'l2' is not defined"
     ]
    }
   ],
   "source": [
    "l2\n"
   ]
  },
  {
   "cell_type": "code",
   "execution_count": 36,
   "id": "62879d3b-1fd1-4a1f-a641-8ab1eb021923",
   "metadata": {},
   "outputs": [
    {
     "data": {
      "text/plain": [
       "[10, 10, 20, 30, 40, 50, 2.3, 'nit', (1+2j), [1, 2, 3]]"
      ]
     },
     "execution_count": 36,
     "metadata": {},
     "output_type": "execute_result"
    }
   ],
   "source": [
    "l1\n"
   ]
  },
  {
   "cell_type": "code",
   "execution_count": 38,
   "id": "72ca1813-7c4d-4dd6-8128-dd7125cd69ce",
   "metadata": {},
   "outputs": [
    {
     "data": {
      "text/plain": [
       "[10, 50]"
      ]
     },
     "execution_count": 38,
     "metadata": {},
     "output_type": "execute_result"
    }
   ],
   "source": [
    "l1[0:11:5]"
   ]
  },
  {
   "cell_type": "code",
   "execution_count": 39,
   "id": "68724022-4051-4777-883d-6f75abb19f3e",
   "metadata": {},
   "outputs": [
    {
     "data": {
      "text/plain": [
       "7"
      ]
     },
     "execution_count": 39,
     "metadata": {},
     "output_type": "execute_result"
    }
   ],
   "source": [
    "l1.index('nit')"
   ]
  },
  {
   "cell_type": "code",
   "execution_count": null,
   "id": "36d5d303-b4a3-4772-81f3-e3a422c62395",
   "metadata": {},
   "outputs": [],
   "source": []
  },
  {
   "cell_type": "code",
   "execution_count": null,
   "id": "c5a1e087-36e4-4694-a5f8-215e81bd6259",
   "metadata": {},
   "outputs": [],
   "source": []
  },
  {
   "cell_type": "code",
   "execution_count": null,
   "id": "c42d7caa-70ab-41cd-aaac-b278099a4220",
   "metadata": {},
   "outputs": [],
   "source": []
  },
  {
   "cell_type": "code",
   "execution_count": null,
   "id": "f86c14bd-bd59-42d6-9af2-39c69d94fdd3",
   "metadata": {},
   "outputs": [],
   "source": []
  }
 ],
 "metadata": {
  "kernelspec": {
   "display_name": "Python 3 (ipykernel)",
   "language": "python",
   "name": "python3"
  },
  "language_info": {
   "codemirror_mode": {
    "name": "ipython",
    "version": 3
   },
   "file_extension": ".py",
   "mimetype": "text/x-python",
   "name": "python",
   "nbconvert_exporter": "python",
   "pygments_lexer": "ipython3",
   "version": "3.12.7"
  }
 },
 "nbformat": 4,
 "nbformat_minor": 5
}
