{
 "cells": [
  {
   "cell_type": "code",
   "execution_count": 14,
   "id": "0ec0e18b-5cae-4edd-bebc-9912a6a44519",
   "metadata": {},
   "outputs": [],
   "source": [
    "import math as m"
   ]
  },
  {
   "cell_type": "code",
   "execution_count": 2,
   "id": "8c4bc9a5-2a5a-4456-9585-9414b02bf216",
   "metadata": {},
   "outputs": [],
   "source": [
    "x=m.sqrt(25)"
   ]
  },
  {
   "cell_type": "code",
   "execution_count": 3,
   "id": "4d56bc7c-797f-4988-9a6e-16300e566201",
   "metadata": {},
   "outputs": [
    {
     "data": {
      "text/plain": [
       "5.0"
      ]
     },
     "execution_count": 3,
     "metadata": {},
     "output_type": "execute_result"
    }
   ],
   "source": [
    "x"
   ]
  },
  {
   "cell_type": "code",
   "execution_count": 4,
   "id": "c7e70464-b6d2-483c-a3e0-eb119a6fb871",
   "metadata": {},
   "outputs": [
    {
     "data": {
      "text/plain": [
       "3.872983346207417"
      ]
     },
     "execution_count": 4,
     "metadata": {},
     "output_type": "execute_result"
    }
   ],
   "source": [
    "x1=m.sqrt(15)\n",
    "x1"
   ]
  },
  {
   "cell_type": "code",
   "execution_count": 5,
   "id": "d2d7a5cb-5e4c-4c09-a8ec-03e903a55641",
   "metadata": {},
   "outputs": [
    {
     "name": "stdout",
     "output_type": "stream",
     "text": [
      "3\n"
     ]
    }
   ],
   "source": [
    "print(m.floor(x1))"
   ]
  },
  {
   "cell_type": "code",
   "execution_count": 6,
   "id": "b606a01f-85b5-4db3-a5a4-5f71db014634",
   "metadata": {},
   "outputs": [
    {
     "name": "stdout",
     "output_type": "stream",
     "text": [
      "4\n"
     ]
    }
   ],
   "source": [
    "print(m.ceil(x1))"
   ]
  },
  {
   "cell_type": "code",
   "execution_count": 7,
   "id": "5679ec2e-3826-4b4e-843b-f871116df8aa",
   "metadata": {},
   "outputs": [
    {
     "name": "stdout",
     "output_type": "stream",
     "text": [
      "27.0\n"
     ]
    }
   ],
   "source": [
    "print(m.pow(3,3))"
   ]
  },
  {
   "cell_type": "code",
   "execution_count": 11,
   "id": "544cbe36-7103-4189-8cbd-95db7d1337fc",
   "metadata": {},
   "outputs": [
    {
     "name": "stdout",
     "output_type": "stream",
     "text": [
      "3.141592653589793\n"
     ]
    }
   ],
   "source": [
    "print(m.pi)"
   ]
  },
  {
   "cell_type": "code",
   "execution_count": 12,
   "id": "caa970d1-42cd-490f-908a-3b71a702f12a",
   "metadata": {},
   "outputs": [],
   "source": [
    "m=1"
   ]
  },
  {
   "cell_type": "code",
   "execution_count": 15,
   "id": "ab4a33ad-5a28-407f-8186-1d7cb0c40614",
   "metadata": {},
   "outputs": [],
   "source": [
    "from math import sqrt,pow"
   ]
  },
  {
   "cell_type": "code",
   "execution_count": 16,
   "id": "24a27880-a899-4d73-a625-195f9b695e4c",
   "metadata": {},
   "outputs": [
    {
     "name": "stdout",
     "output_type": "stream",
     "text": [
      "5.0\n"
     ]
    }
   ],
   "source": [
    "print(sqrt(25))"
   ]
  },
  {
   "cell_type": "code",
   "execution_count": 17,
   "id": "7f7f9188-b218-44a8-b827-16f92052fd77",
   "metadata": {},
   "outputs": [
    {
     "name": "stdout",
     "output_type": "stream",
     "text": [
      "8.0\n"
     ]
    }
   ],
   "source": [
    "print(pow(2,3))"
   ]
  },
  {
   "cell_type": "markdown",
   "id": "6abf5956-ba3c-4a5e-b85c-4a26a12da5db",
   "metadata": {},
   "source": [
    "## INPUT() IN PYTHON"
   ]
  },
  {
   "cell_type": "code",
   "execution_count": 18,
   "id": "6f8ba93c-d773-4482-9716-7282d6a57aa2",
   "metadata": {},
   "outputs": [
    {
     "name": "stdin",
     "output_type": "stream",
     "text": [
      " 3\n"
     ]
    },
    {
     "data": {
      "text/plain": [
       "'3'"
      ]
     },
     "execution_count": 18,
     "metadata": {},
     "output_type": "execute_result"
    }
   ],
   "source": [
    "x=input()\n",
    "x"
   ]
  },
  {
   "cell_type": "code",
   "execution_count": 21,
   "id": "0e1de726-052e-490c-8001-e064b93c72d1",
   "metadata": {},
   "outputs": [
    {
     "name": "stdin",
     "output_type": "stream",
     "text": [
      " 4\n",
      " 5\n"
     ]
    },
    {
     "name": "stdout",
     "output_type": "stream",
     "text": [
      "45\n"
     ]
    }
   ],
   "source": [
    "x=input()\n",
    "y=input()\n",
    "z=x+y\n",
    "print(z)"
   ]
  },
  {
   "cell_type": "code",
   "execution_count": 22,
   "id": "612b75f4-a6fb-48f6-89af-9cf092ea41e8",
   "metadata": {},
   "outputs": [
    {
     "data": {
      "text/plain": [
       "str"
      ]
     },
     "execution_count": 22,
     "metadata": {},
     "output_type": "execute_result"
    }
   ],
   "source": [
    "type(x)"
   ]
  },
  {
   "cell_type": "code",
   "execution_count": 23,
   "id": "37a6bbc3-c96c-4116-8bce-5d7e3d98f7ee",
   "metadata": {},
   "outputs": [
    {
     "data": {
      "text/plain": [
       "'4'"
      ]
     },
     "execution_count": 23,
     "metadata": {},
     "output_type": "execute_result"
    }
   ],
   "source": [
    "x"
   ]
  },
  {
   "cell_type": "code",
   "execution_count": 24,
   "id": "c3b44e25-43af-406b-84c1-7e51333f19d2",
   "metadata": {},
   "outputs": [
    {
     "name": "stdin",
     "output_type": "stream",
     "text": [
      "User_Name Divs\n",
      "Password Divs@1923\n"
     ]
    }
   ],
   "source": [
    "x1=input('User_Name')\n",
    "y1=input('Password')\n",
    "\n"
   ]
  },
  {
   "cell_type": "code",
   "execution_count": 25,
   "id": "e1b2d260-ea32-4b98-be1d-e23d5f60f2b6",
   "metadata": {},
   "outputs": [
    {
     "name": "stdin",
     "output_type": "stream",
     "text": [
      "Enter the first number 34\n",
      "Enter the second number 34\n"
     ]
    }
   ],
   "source": [
    "x1=input('Enter the first number')\n",
    "a1=int(x1)\n",
    "y1=input('Enter the second number')\n",
    "a2=int(y1)\n",
    "z=a1+a2"
   ]
  },
  {
   "cell_type": "code",
   "execution_count": 26,
   "id": "9d37e83b-b3c1-47dc-a694-b7d9104dc8da",
   "metadata": {},
   "outputs": [
    {
     "data": {
      "text/plain": [
       "68"
      ]
     },
     "execution_count": 26,
     "metadata": {},
     "output_type": "execute_result"
    }
   ],
   "source": [
    "z"
   ]
  },
  {
   "cell_type": "code",
   "execution_count": 27,
   "id": "ff566c18-06d3-4fd0-8eb0-c4ec5b50f8fa",
   "metadata": {},
   "outputs": [
    {
     "name": "stdin",
     "output_type": "stream",
     "text": [
      "Enter the first number 45\n",
      "Enter the second number 45\n"
     ]
    },
    {
     "data": {
      "text/plain": [
       "90"
      ]
     },
     "execution_count": 27,
     "metadata": {},
     "output_type": "execute_result"
    }
   ],
   "source": [
    "x1=int(input('Enter the first number'))\n",
    "y1=int(input('Enter the second number'))\n",
    "z=x1+y1\n",
    "z"
   ]
  },
  {
   "cell_type": "code",
   "execution_count": 28,
   "id": "e6f53b0e-108f-40a9-9562-eff08b556ad5",
   "metadata": {},
   "outputs": [
    {
     "name": "stdin",
     "output_type": "stream",
     "text": [
      "enter a string hello\n"
     ]
    },
    {
     "name": "stdout",
     "output_type": "stream",
     "text": [
      "hello\n"
     ]
    }
   ],
   "source": [
    "st=input('enter a string')\n",
    "print(st)"
   ]
  },
  {
   "cell_type": "code",
   "execution_count": 29,
   "id": "744f4f2a-ccec-4250-8c71-aa15b9351f7e",
   "metadata": {},
   "outputs": [
    {
     "name": "stdout",
     "output_type": "stream",
     "text": [
      "h\n"
     ]
    }
   ],
   "source": [
    "print(st[0])"
   ]
  },
  {
   "cell_type": "code",
   "execution_count": 30,
   "id": "41dc2d3d-6547-4e41-ae95-08ddf902b463",
   "metadata": {},
   "outputs": [
    {
     "name": "stdin",
     "output_type": "stream",
     "text": [
      "enter a string hello\n"
     ]
    },
    {
     "name": "stdout",
     "output_type": "stream",
     "text": [
      "h\n"
     ]
    }
   ],
   "source": [
    "st=input('enter a string')[0]\n",
    "print(st)"
   ]
  },
  {
   "cell_type": "code",
   "execution_count": 31,
   "id": "8e2741b6-03ea-4748-9456-983e9f682dbc",
   "metadata": {},
   "outputs": [
    {
     "name": "stdin",
     "output_type": "stream",
     "text": [
      "enter a string hello\n"
     ]
    },
    {
     "name": "stdout",
     "output_type": "stream",
     "text": [
      "el\n"
     ]
    }
   ],
   "source": [
    "st=input('enter a string')[1:3]\n",
    "print(st)"
   ]
  },
  {
   "cell_type": "code",
   "execution_count": 36,
   "id": "3a9b1759-df58-4463-950b-0ab52514615c",
   "metadata": {},
   "outputs": [
    {
     "name": "stdin",
     "output_type": "stream",
     "text": [
      "enter a string abcdd\n"
     ]
    },
    {
     "name": "stdout",
     "output_type": "stream",
     "text": [
      "acd\n"
     ]
    }
   ],
   "source": [
    "st=input('enter a string')[0:5:2]\n",
    "print(st)"
   ]
  },
  {
   "cell_type": "code",
   "execution_count": 37,
   "id": "bb288843-5f48-42c4-8f57-dbdd8a925fe0",
   "metadata": {},
   "outputs": [
    {
     "name": "stdin",
     "output_type": "stream",
     "text": [
      "enter a expr 2+3-10\n"
     ]
    },
    {
     "name": "stdout",
     "output_type": "stream",
     "text": [
      "2+3-10\n"
     ]
    }
   ],
   "source": [
    "st=input('enter a expr')\n",
    "print(st)"
   ]
  },
  {
   "cell_type": "code",
   "execution_count": 38,
   "id": "40a2edf2-59f2-4238-a77e-1b1d9342df7e",
   "metadata": {},
   "outputs": [
    {
     "name": "stdin",
     "output_type": "stream",
     "text": [
      "enter a expr 2+3+5\n"
     ]
    },
    {
     "ename": "ValueError",
     "evalue": "invalid literal for int() with base 10: '2+3+5'",
     "output_type": "error",
     "traceback": [
      "\u001b[1;31m---------------------------------------------------------------------------\u001b[0m",
      "\u001b[1;31mValueError\u001b[0m                                Traceback (most recent call last)",
      "Cell \u001b[1;32mIn[38], line 1\u001b[0m\n\u001b[1;32m----> 1\u001b[0m st\u001b[38;5;241m=\u001b[39m\u001b[38;5;28mint\u001b[39m(\u001b[38;5;28minput\u001b[39m(\u001b[38;5;124m'\u001b[39m\u001b[38;5;124menter a expr\u001b[39m\u001b[38;5;124m'\u001b[39m))\n\u001b[0;32m      2\u001b[0m \u001b[38;5;28mprint\u001b[39m(st)\n",
      "\u001b[1;31mValueError\u001b[0m: invalid literal for int() with base 10: '2+3+5'"
     ]
    }
   ],
   "source": [
    "st=int(input('enter a expr'))\n",
    "print(st)"
   ]
  },
  {
   "cell_type": "code",
   "execution_count": 39,
   "id": "a6856fd9-0f7c-4737-983d-d19ef9553f83",
   "metadata": {},
   "outputs": [
    {
     "name": "stdin",
     "output_type": "stream",
     "text": [
      "enter a expr 2+4+5\n"
     ]
    },
    {
     "name": "stdout",
     "output_type": "stream",
     "text": [
      "11\n"
     ]
    }
   ],
   "source": [
    "st=eval(input('enter a expr'))\n",
    "print(st)"
   ]
  },
  {
   "cell_type": "code",
   "execution_count": null,
   "id": "1def7602-253d-4f69-b628-f83fe3177162",
   "metadata": {},
   "outputs": [],
   "source": []
  },
  {
   "cell_type": "code",
   "execution_count": null,
   "id": "41b908b0-818c-44e5-a19b-6db90846048d",
   "metadata": {},
   "outputs": [],
   "source": []
  },
  {
   "cell_type": "code",
   "execution_count": null,
   "id": "0424ca93-ffae-43f0-b54c-4ecdc4e41f78",
   "metadata": {},
   "outputs": [],
   "source": []
  }
 ],
 "metadata": {
  "kernelspec": {
   "display_name": "Python 3 (ipykernel)",
   "language": "python",
   "name": "python3"
  },
  "language_info": {
   "codemirror_mode": {
    "name": "ipython",
    "version": 3
   },
   "file_extension": ".py",
   "mimetype": "text/x-python",
   "name": "python",
   "nbconvert_exporter": "python",
   "pygments_lexer": "ipython3",
   "version": "3.12.7"
  }
 },
 "nbformat": 4,
 "nbformat_minor": 5
}
